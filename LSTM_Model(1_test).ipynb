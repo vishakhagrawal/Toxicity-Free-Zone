{
 "cells": [
  {
   "cell_type": "markdown",
   "metadata": {
    "id": "wcGq1dF0iWju"
   },
   "source": [
    "# Importing Libraries"
   ]
  },
  {
   "cell_type": "code",
   "execution_count": 2,
   "metadata": {
    "id": "iyTgJx85_MUt"
   },
   "outputs": [],
   "source": [
    "#from google.colab import files\n",
    "#uploaded = files.upload()\n"
   ]
  },
  {
   "cell_type": "code",
   "execution_count": 3,
   "metadata": {
    "colab": {
     "base_uri": "https://localhost:8080/"
    },
    "id": "xEXu-mePiK9T",
    "outputId": "db1e45cc-33bc-45d1-98f1-cd9247cc35f2"
   },
   "outputs": [
    {
     "name": "stdout",
     "output_type": "stream",
     "text": [
      "Requirement already satisfied: talos in d:\\anaconda\\lib\\site-packages (1.3)\n",
      "Requirement already satisfied: kerasplotlib in d:\\anaconda\\lib\\site-packages (from talos) (1.0)\n",
      "Requirement already satisfied: tensorflow>=2.0.0 in d:\\anaconda\\lib\\site-packages (from talos) (2.12.0)\n",
      "Requirement already satisfied: requests in d:\\anaconda\\lib\\site-packages (from talos) (2.24.0)\n",
      "Requirement already satisfied: chances in d:\\anaconda\\lib\\site-packages (from talos) (0.1.9)\n",
      "Requirement already satisfied: statsmodels>=0.11.0 in d:\\anaconda\\lib\\site-packages (from talos) (0.12.0)\n",
      "Requirement already satisfied: astetik in d:\\anaconda\\lib\\site-packages (from talos) (1.13)\n",
      "Requirement already satisfied: wrangle in d:\\anaconda\\lib\\site-packages (from talos) (0.7.2)\n",
      "Requirement already satisfied: numpy in d:\\anaconda\\lib\\site-packages (from talos) (1.23.5)\n",
      "Requirement already satisfied: tqdm in d:\\anaconda\\lib\\site-packages (from talos) (4.50.2)\n",
      "Requirement already satisfied: pandas in d:\\anaconda\\lib\\site-packages (from talos) (1.1.3)\n",
      "Requirement already satisfied: sklearn in d:\\anaconda\\lib\\site-packages (from talos) (0.0.post1)\n",
      "Requirement already satisfied: matplotlib in d:\\anaconda\\lib\\site-packages (from kerasplotlib->talos) (3.3.2)\n",
      "Requirement already satisfied: ipython in d:\\anaconda\\lib\\site-packages (from kerasplotlib->talos) (7.19.0)\n",
      "Requirement already satisfied: tensorflow-intel==2.12.0; platform_system == \"Windows\" in d:\\anaconda\\lib\\site-packages (from tensorflow>=2.0.0->talos) (2.12.0)\n",
      "Requirement already satisfied: chardet<4,>=3.0.2 in d:\\anaconda\\lib\\site-packages (from requests->talos) (3.0.4)\n",
      "Requirement already satisfied: certifi>=2017.4.17 in d:\\anaconda\\lib\\site-packages (from requests->talos) (2020.6.20)\n",
      "Requirement already satisfied: urllib3!=1.25.0,!=1.25.1,<1.26,>=1.21.1 in d:\\anaconda\\lib\\site-packages (from requests->talos) (1.25.11)\n",
      "Requirement already satisfied: idna<3,>=2.5 in d:\\anaconda\\lib\\site-packages (from requests->talos) (2.10)\n",
      "Requirement already satisfied: scipy in d:\\anaconda\\lib\\site-packages (from chances->talos) (1.5.2)\n",
      "Requirement already satisfied: patsy>=0.5 in d:\\anaconda\\lib\\site-packages (from statsmodels>=0.11.0->talos) (0.5.1)\n",
      "Requirement already satisfied: seaborn in d:\\anaconda\\lib\\site-packages (from astetik->talos) (0.11.0)\n",
      "Requirement already satisfied: geonamescache in d:\\anaconda\\lib\\site-packages (from astetik->talos) (1.5.0)\n",
      "Requirement already satisfied: python-dateutil>=2.7.3 in d:\\anaconda\\lib\\site-packages (from pandas->talos) (2.8.1)\n",
      "Requirement already satisfied: pytz>=2017.2 in d:\\anaconda\\lib\\site-packages (from pandas->talos) (2020.1)\n",
      "Requirement already satisfied: pyparsing!=2.0.4,!=2.1.2,!=2.1.6,>=2.0.3 in d:\\anaconda\\lib\\site-packages (from matplotlib->kerasplotlib->talos) (2.4.7)\n",
      "Requirement already satisfied: pillow>=6.2.0 in d:\\anaconda\\lib\\site-packages (from matplotlib->kerasplotlib->talos) (8.0.1)\n",
      "Requirement already satisfied: cycler>=0.10 in d:\\anaconda\\lib\\site-packages (from matplotlib->kerasplotlib->talos) (0.10.0)\n",
      "Requirement already satisfied: kiwisolver>=1.0.1 in d:\\anaconda\\lib\\site-packages (from matplotlib->kerasplotlib->talos) (1.3.0)\n",
      "Requirement already satisfied: traitlets>=4.2 in d:\\anaconda\\lib\\site-packages (from ipython->kerasplotlib->talos) (5.0.5)\n",
      "Requirement already satisfied: pygments in d:\\anaconda\\lib\\site-packages (from ipython->kerasplotlib->talos) (2.7.2)\n",
      "Requirement already satisfied: decorator in d:\\anaconda\\lib\\site-packages (from ipython->kerasplotlib->talos) (4.4.2)\n",
      "Requirement already satisfied: colorama; sys_platform == \"win32\" in d:\\anaconda\\lib\\site-packages (from ipython->kerasplotlib->talos) (0.4.6)\n",
      "Requirement already satisfied: backcall in d:\\anaconda\\lib\\site-packages (from ipython->kerasplotlib->talos) (0.2.0)\n",
      "Requirement already satisfied: setuptools>=18.5 in d:\\anaconda\\lib\\site-packages (from ipython->kerasplotlib->talos) (50.3.1.post20201107)\n",
      "Requirement already satisfied: prompt-toolkit!=3.0.0,!=3.0.1,<3.1.0,>=2.0.0 in d:\\anaconda\\lib\\site-packages (from ipython->kerasplotlib->talos) (3.0.8)\n",
      "Requirement already satisfied: pickleshare in d:\\anaconda\\lib\\site-packages (from ipython->kerasplotlib->talos) (0.7.5)\n",
      "Requirement already satisfied: jedi>=0.10 in d:\\anaconda\\lib\\site-packages (from ipython->kerasplotlib->talos) (0.17.1)\n",
      "Requirement already satisfied: tensorflow-estimator<2.13,>=2.12.0 in d:\\anaconda\\lib\\site-packages (from tensorflow-intel==2.12.0; platform_system == \"Windows\"->tensorflow>=2.0.0->talos) (2.12.0)\n",
      "Requirement already satisfied: astunparse>=1.6.0 in d:\\anaconda\\lib\\site-packages (from tensorflow-intel==2.12.0; platform_system == \"Windows\"->tensorflow>=2.0.0->talos) (1.6.3)\n",
      "Requirement already satisfied: flatbuffers>=2.0 in d:\\anaconda\\lib\\site-packages (from tensorflow-intel==2.12.0; platform_system == \"Windows\"->tensorflow>=2.0.0->talos) (23.3.3)\n",
      "Requirement already satisfied: tensorboard<2.13,>=2.12 in d:\\anaconda\\lib\\site-packages (from tensorflow-intel==2.12.0; platform_system == \"Windows\"->tensorflow>=2.0.0->talos) (2.12.0)\n",
      "Requirement already satisfied: grpcio<2.0,>=1.24.3 in d:\\anaconda\\lib\\site-packages (from tensorflow-intel==2.12.0; platform_system == \"Windows\"->tensorflow>=2.0.0->talos) (1.51.3)\n",
      "Requirement already satisfied: tensorflow-io-gcs-filesystem>=0.23.1; platform_machine != \"arm64\" or platform_system != \"Darwin\" in d:\\anaconda\\lib\\site-packages (from tensorflow-intel==2.12.0; platform_system == \"Windows\"->tensorflow>=2.0.0->talos) (0.31.0)\n",
      "Requirement already satisfied: gast<=0.4.0,>=0.2.1 in d:\\anaconda\\lib\\site-packages (from tensorflow-intel==2.12.0; platform_system == \"Windows\"->tensorflow>=2.0.0->talos) (0.4.0)\n",
      "Requirement already satisfied: wrapt<1.15,>=1.11.0 in d:\\anaconda\\lib\\site-packages (from tensorflow-intel==2.12.0; platform_system == \"Windows\"->tensorflow>=2.0.0->talos) (1.11.2)\n",
      "Requirement already satisfied: google-pasta>=0.1.1 in d:\\anaconda\\lib\\site-packages (from tensorflow-intel==2.12.0; platform_system == \"Windows\"->tensorflow>=2.0.0->talos) (0.2.0)\n",
      "Requirement already satisfied: libclang>=13.0.0 in d:\\anaconda\\lib\\site-packages (from tensorflow-intel==2.12.0; platform_system == \"Windows\"->tensorflow>=2.0.0->talos) (16.0.0)\n",
      "Requirement already satisfied: h5py>=2.9.0 in d:\\anaconda\\lib\\site-packages (from tensorflow-intel==2.12.0; platform_system == \"Windows\"->tensorflow>=2.0.0->talos) (2.10.0)\n",
      "Requirement already satisfied: six>=1.12.0 in d:\\anaconda\\lib\\site-packages (from tensorflow-intel==2.12.0; platform_system == \"Windows\"->tensorflow>=2.0.0->talos) (1.15.0)\n",
      "Requirement already satisfied: protobuf!=4.21.0,!=4.21.1,!=4.21.2,!=4.21.3,!=4.21.4,!=4.21.5,<5.0.0dev,>=3.20.3 in d:\\anaconda\\lib\\site-packages (from tensorflow-intel==2.12.0; platform_system == \"Windows\"->tensorflow>=2.0.0->talos) (4.22.1)\n",
      "Requirement already satisfied: typing-extensions>=3.6.6 in d:\\anaconda\\lib\\site-packages (from tensorflow-intel==2.12.0; platform_system == \"Windows\"->tensorflow>=2.0.0->talos) (4.5.0)\n",
      "Requirement already satisfied: jax>=0.3.15 in d:\\anaconda\\lib\\site-packages (from tensorflow-intel==2.12.0; platform_system == \"Windows\"->tensorflow>=2.0.0->talos) (0.4.6)\n",
      "Requirement already satisfied: absl-py>=1.0.0 in d:\\anaconda\\lib\\site-packages (from tensorflow-intel==2.12.0; platform_system == \"Windows\"->tensorflow>=2.0.0->talos) (1.4.0)\n",
      "Requirement already satisfied: termcolor>=1.1.0 in d:\\anaconda\\lib\\site-packages (from tensorflow-intel==2.12.0; platform_system == \"Windows\"->tensorflow>=2.0.0->talos) (2.2.0)\n",
      "Requirement already satisfied: opt-einsum>=2.3.2 in d:\\anaconda\\lib\\site-packages (from tensorflow-intel==2.12.0; platform_system == \"Windows\"->tensorflow>=2.0.0->talos) (3.3.0)\n",
      "Requirement already satisfied: packaging in d:\\anaconda\\lib\\site-packages (from tensorflow-intel==2.12.0; platform_system == \"Windows\"->tensorflow>=2.0.0->talos) (20.4)\n",
      "Requirement already satisfied: keras<2.13,>=2.12.0 in d:\\anaconda\\lib\\site-packages (from tensorflow-intel==2.12.0; platform_system == \"Windows\"->tensorflow>=2.0.0->talos) (2.12.0)\n",
      "Requirement already satisfied: ipython-genutils in d:\\anaconda\\lib\\site-packages (from traitlets>=4.2->ipython->kerasplotlib->talos) (0.2.0)\n",
      "Requirement already satisfied: wcwidth in d:\\anaconda\\lib\\site-packages (from prompt-toolkit!=3.0.0,!=3.0.1,<3.1.0,>=2.0.0->ipython->kerasplotlib->talos) (0.2.5)\n",
      "Requirement already satisfied: parso<0.8.0,>=0.7.0 in d:\\anaconda\\lib\\site-packages (from jedi>=0.10->ipython->kerasplotlib->talos) (0.7.0)\n",
      "Requirement already satisfied: wheel<1.0,>=0.23.0 in d:\\anaconda\\lib\\site-packages (from astunparse>=1.6.0->tensorflow-intel==2.12.0; platform_system == \"Windows\"->tensorflow>=2.0.0->talos) (0.35.1)\n",
      "Requirement already satisfied: werkzeug>=1.0.1 in d:\\anaconda\\lib\\site-packages (from tensorboard<2.13,>=2.12->tensorflow-intel==2.12.0; platform_system == \"Windows\"->tensorflow>=2.0.0->talos) (1.0.1)\n",
      "Requirement already satisfied: tensorboard-data-server<0.8.0,>=0.7.0 in d:\\anaconda\\lib\\site-packages (from tensorboard<2.13,>=2.12->tensorflow-intel==2.12.0; platform_system == \"Windows\"->tensorflow>=2.0.0->talos) (0.7.0)\n",
      "Requirement already satisfied: google-auth<3,>=1.6.3 in d:\\anaconda\\lib\\site-packages (from tensorboard<2.13,>=2.12->tensorflow-intel==2.12.0; platform_system == \"Windows\"->tensorflow>=2.0.0->talos) (2.16.2)\n",
      "Requirement already satisfied: google-auth-oauthlib<0.5,>=0.4.1 in d:\\anaconda\\lib\\site-packages (from tensorboard<2.13,>=2.12->tensorflow-intel==2.12.0; platform_system == \"Windows\"->tensorflow>=2.0.0->talos) (0.4.6)\n",
      "Requirement already satisfied: tensorboard-plugin-wit>=1.6.0 in d:\\anaconda\\lib\\site-packages (from tensorboard<2.13,>=2.12->tensorflow-intel==2.12.0; platform_system == \"Windows\"->tensorflow>=2.0.0->talos) (1.8.1)\n",
      "Requirement already satisfied: markdown>=2.6.8 in d:\\anaconda\\lib\\site-packages (from tensorboard<2.13,>=2.12->tensorflow-intel==2.12.0; platform_system == \"Windows\"->tensorflow>=2.0.0->talos) (3.4.3)\n",
      "Requirement already satisfied: rsa<5,>=3.1.4; python_version >= \"3.6\" in d:\\anaconda\\lib\\site-packages (from google-auth<3,>=1.6.3->tensorboard<2.13,>=2.12->tensorflow-intel==2.12.0; platform_system == \"Windows\"->tensorflow>=2.0.0->talos) (4.9)\n",
      "Requirement already satisfied: pyasn1-modules>=0.2.1 in d:\\anaconda\\lib\\site-packages (from google-auth<3,>=1.6.3->tensorboard<2.13,>=2.12->tensorflow-intel==2.12.0; platform_system == \"Windows\"->tensorflow>=2.0.0->talos) (0.2.8)\n",
      "Requirement already satisfied: cachetools<6.0,>=2.0.0 in d:\\anaconda\\lib\\site-packages (from google-auth<3,>=1.6.3->tensorboard<2.13,>=2.12->tensorflow-intel==2.12.0; platform_system == \"Windows\"->tensorflow>=2.0.0->talos) (5.3.0)\n",
      "Requirement already satisfied: requests-oauthlib>=0.7.0 in d:\\anaconda\\lib\\site-packages (from google-auth-oauthlib<0.5,>=0.4.1->tensorboard<2.13,>=2.12->tensorflow-intel==2.12.0; platform_system == \"Windows\"->tensorflow>=2.0.0->talos) (1.3.1)\n",
      "Requirement already satisfied: importlib-metadata>=4.4; python_version < \"3.10\" in d:\\anaconda\\lib\\site-packages (from markdown>=2.6.8->tensorboard<2.13,>=2.12->tensorflow-intel==2.12.0; platform_system == \"Windows\"->tensorflow>=2.0.0->talos) (6.1.0)\n",
      "Requirement already satisfied: pyasn1>=0.1.3 in d:\\anaconda\\lib\\site-packages (from rsa<5,>=3.1.4; python_version >= \"3.6\"->google-auth<3,>=1.6.3->tensorboard<2.13,>=2.12->tensorflow-intel==2.12.0; platform_system == \"Windows\"->tensorflow>=2.0.0->talos) (0.4.8)\n",
      "Requirement already satisfied: oauthlib>=3.0.0 in d:\\anaconda\\lib\\site-packages (from requests-oauthlib>=0.7.0->google-auth-oauthlib<0.5,>=0.4.1->tensorboard<2.13,>=2.12->tensorflow-intel==2.12.0; platform_system == \"Windows\"->tensorflow>=2.0.0->talos) (3.2.2)\n",
      "Requirement already satisfied: zipp>=0.5 in d:\\anaconda\\lib\\site-packages (from importlib-metadata>=4.4; python_version < \"3.10\"->markdown>=2.6.8->tensorboard<2.13,>=2.12->tensorflow-intel==2.12.0; platform_system == \"Windows\"->tensorflow>=2.0.0->talos) (3.4.0)\n"
     ]
    },
    {
     "name": "stderr",
     "output_type": "stream",
     "text": [
      "[nltk_data] Downloading package wordnet to\n",
      "[nltk_data]     C:\\Users\\91758\\AppData\\Roaming\\nltk_data...\n",
      "[nltk_data]   Package wordnet is already up-to-date!\n"
     ]
    }
   ],
   "source": [
    "import numpy as np, pandas as pd\n",
    "\n",
    "!pip install talos\n",
    "\n",
    "import re\n",
    "import spacy\n",
    "from spacy.lang.en import English\n",
    "from spacy.lang.en.stop_words import STOP_WORDS\n",
    "from nltk.tokenize import word_tokenize\n",
    "import nltk\n",
    "from nltk.stem import WordNetLemmatizer\n",
    "nltk.download('wordnet')\n",
    "import string\n",
    "from string import ascii_lowercase\n",
    "\n",
    "from tqdm import tqdm_notebook\n",
    "import itertools\n",
    "import io\n",
    "\n",
    "import matplotlib.pyplot as plt\n",
    "%matplotlib inline\n",
    "\n",
    "from functools import reduce\n",
    "from tensorflow import keras\n",
    "from keras.preprocessing.text import Tokenizer\n",
    "from tensorflow.keras.preprocessing.sequence import pad_sequences\n",
    "from tensorflow.keras.layers import Dense, Input, LSTM, Embedding, Dropout, Activation\n",
    "from tensorflow.keras.layers import Bidirectional, GlobalMaxPool1D\n",
    "from keras.models import Model\n",
    "from keras.models import Sequential\n",
    "from tensorflow.keras.layers import Conv1D, MaxPooling1D\n",
    "from tensorflow.keras.layers import BatchNormalization\n",
    "from keras import initializers, regularizers, constraints, optimizers, layers\n",
    "import talos"
   ]
  },
  {
   "cell_type": "code",
   "execution_count": null,
   "metadata": {
    "id": "0okjQa9kku97"
   },
   "outputs": [],
   "source": []
  },
  {
   "cell_type": "markdown",
   "metadata": {
    "id": "z8KPqb7_vC59"
   },
   "source": [
    "# Importing Data"
   ]
  },
  {
   "cell_type": "code",
   "execution_count": 4,
   "metadata": {
    "colab": {
     "base_uri": "https://localhost:8080/",
     "height": 310
    },
    "id": "96Z6cXAZiaAY",
    "outputId": "6f4935e6-9bef-4b02-c961-c2e8ff3dedee"
   },
   "outputs": [],
   "source": [
    "train=pd.read_csv('D:/VIT/Sem 6/TARP/train.csv')"
   ]
  },
  {
   "cell_type": "code",
   "execution_count": 5,
   "metadata": {
    "colab": {
     "base_uri": "https://localhost:8080/",
     "height": 165
    },
    "id": "yTbZDdkc1lxE",
    "outputId": "0fde7670-bf28-40cd-ad0b-a307fcb778e4"
   },
   "outputs": [
    {
     "data": {
      "text/html": [
       "<div>\n",
       "<style scoped>\n",
       "    .dataframe tbody tr th:only-of-type {\n",
       "        vertical-align: middle;\n",
       "    }\n",
       "\n",
       "    .dataframe tbody tr th {\n",
       "        vertical-align: top;\n",
       "    }\n",
       "\n",
       "    .dataframe thead th {\n",
       "        text-align: right;\n",
       "    }\n",
       "</style>\n",
       "<table border=\"1\" class=\"dataframe\">\n",
       "  <thead>\n",
       "    <tr style=\"text-align: right;\">\n",
       "      <th></th>\n",
       "      <th>id</th>\n",
       "      <th>comment_text</th>\n",
       "      <th>toxic</th>\n",
       "      <th>severe_toxic</th>\n",
       "      <th>obscene</th>\n",
       "      <th>threat</th>\n",
       "      <th>insult</th>\n",
       "      <th>identity_hate</th>\n",
       "    </tr>\n",
       "  </thead>\n",
       "  <tbody>\n",
       "    <tr>\n",
       "      <th>0</th>\n",
       "      <td>0000997932d777bf</td>\n",
       "      <td>Explanation\\nWhy the edits made under my usern...</td>\n",
       "      <td>0</td>\n",
       "      <td>0</td>\n",
       "      <td>0</td>\n",
       "      <td>0</td>\n",
       "      <td>0</td>\n",
       "      <td>0</td>\n",
       "    </tr>\n",
       "    <tr>\n",
       "      <th>1</th>\n",
       "      <td>000103f0d9cfb60f</td>\n",
       "      <td>D'aww! He matches this background colour I'm s...</td>\n",
       "      <td>0</td>\n",
       "      <td>0</td>\n",
       "      <td>0</td>\n",
       "      <td>0</td>\n",
       "      <td>0</td>\n",
       "      <td>0</td>\n",
       "    </tr>\n",
       "    <tr>\n",
       "      <th>2</th>\n",
       "      <td>000113f07ec002fd</td>\n",
       "      <td>Hey man, I'm really not trying to edit war. It...</td>\n",
       "      <td>0</td>\n",
       "      <td>0</td>\n",
       "      <td>0</td>\n",
       "      <td>0</td>\n",
       "      <td>0</td>\n",
       "      <td>0</td>\n",
       "    </tr>\n",
       "    <tr>\n",
       "      <th>3</th>\n",
       "      <td>0001b41b1c6bb37e</td>\n",
       "      <td>\"\\nMore\\nI can't make any real suggestions on ...</td>\n",
       "      <td>0</td>\n",
       "      <td>0</td>\n",
       "      <td>0</td>\n",
       "      <td>0</td>\n",
       "      <td>0</td>\n",
       "      <td>0</td>\n",
       "    </tr>\n",
       "    <tr>\n",
       "      <th>4</th>\n",
       "      <td>0001d958c54c6e35</td>\n",
       "      <td>You, sir, are my hero. Any chance you remember...</td>\n",
       "      <td>0</td>\n",
       "      <td>0</td>\n",
       "      <td>0</td>\n",
       "      <td>0</td>\n",
       "      <td>0</td>\n",
       "      <td>0</td>\n",
       "    </tr>\n",
       "    <tr>\n",
       "      <th>5</th>\n",
       "      <td>00025465d4725e87</td>\n",
       "      <td>\"\\n\\nCongratulations from me as well, use the ...</td>\n",
       "      <td>0</td>\n",
       "      <td>0</td>\n",
       "      <td>0</td>\n",
       "      <td>0</td>\n",
       "      <td>0</td>\n",
       "      <td>0</td>\n",
       "    </tr>\n",
       "    <tr>\n",
       "      <th>6</th>\n",
       "      <td>0002bcb3da6cb337</td>\n",
       "      <td>COCKSUCKER BEFORE YOU PISS AROUND ON MY WORK</td>\n",
       "      <td>1</td>\n",
       "      <td>1</td>\n",
       "      <td>1</td>\n",
       "      <td>0</td>\n",
       "      <td>1</td>\n",
       "      <td>0</td>\n",
       "    </tr>\n",
       "    <tr>\n",
       "      <th>7</th>\n",
       "      <td>00031b1e95af7921</td>\n",
       "      <td>Your vandalism to the Matt Shirvington article...</td>\n",
       "      <td>0</td>\n",
       "      <td>0</td>\n",
       "      <td>0</td>\n",
       "      <td>0</td>\n",
       "      <td>0</td>\n",
       "      <td>0</td>\n",
       "    </tr>\n",
       "    <tr>\n",
       "      <th>8</th>\n",
       "      <td>00037261f536c51d</td>\n",
       "      <td>Sorry if the word 'nonsense' was offensive to ...</td>\n",
       "      <td>0</td>\n",
       "      <td>0</td>\n",
       "      <td>0</td>\n",
       "      <td>0</td>\n",
       "      <td>0</td>\n",
       "      <td>0</td>\n",
       "    </tr>\n",
       "    <tr>\n",
       "      <th>9</th>\n",
       "      <td>00040093b2687caa</td>\n",
       "      <td>alignment on this subject and which are contra...</td>\n",
       "      <td>0</td>\n",
       "      <td>0</td>\n",
       "      <td>0</td>\n",
       "      <td>0</td>\n",
       "      <td>0</td>\n",
       "      <td>0</td>\n",
       "    </tr>\n",
       "  </tbody>\n",
       "</table>\n",
       "</div>"
      ],
      "text/plain": [
       "                 id                                       comment_text  toxic  \\\n",
       "0  0000997932d777bf  Explanation\\nWhy the edits made under my usern...      0   \n",
       "1  000103f0d9cfb60f  D'aww! He matches this background colour I'm s...      0   \n",
       "2  000113f07ec002fd  Hey man, I'm really not trying to edit war. It...      0   \n",
       "3  0001b41b1c6bb37e  \"\\nMore\\nI can't make any real suggestions on ...      0   \n",
       "4  0001d958c54c6e35  You, sir, are my hero. Any chance you remember...      0   \n",
       "5  00025465d4725e87  \"\\n\\nCongratulations from me as well, use the ...      0   \n",
       "6  0002bcb3da6cb337       COCKSUCKER BEFORE YOU PISS AROUND ON MY WORK      1   \n",
       "7  00031b1e95af7921  Your vandalism to the Matt Shirvington article...      0   \n",
       "8  00037261f536c51d  Sorry if the word 'nonsense' was offensive to ...      0   \n",
       "9  00040093b2687caa  alignment on this subject and which are contra...      0   \n",
       "\n",
       "   severe_toxic  obscene  threat  insult  identity_hate  \n",
       "0             0        0       0       0              0  \n",
       "1             0        0       0       0              0  \n",
       "2             0        0       0       0              0  \n",
       "3             0        0       0       0              0  \n",
       "4             0        0       0       0              0  \n",
       "5             0        0       0       0              0  \n",
       "6             1        1       0       1              0  \n",
       "7             0        0       0       0              0  \n",
       "8             0        0       0       0              0  \n",
       "9             0        0       0       0              0  "
      ]
     },
     "execution_count": 5,
     "metadata": {},
     "output_type": "execute_result"
    }
   ],
   "source": [
    "train.head(10)"
   ]
  },
  {
   "cell_type": "code",
   "execution_count": 6,
   "metadata": {
    "id": "O2_gDuPMvQHZ"
   },
   "outputs": [],
   "source": [
    "test=pd.read_csv('D:/VIT/Sem 6/TARP/test.csv')"
   ]
  },
  {
   "cell_type": "code",
   "execution_count": 7,
   "metadata": {
    "id": "vewUHsrQvcti"
   },
   "outputs": [
    {
     "data": {
      "text/html": [
       "<div>\n",
       "<style scoped>\n",
       "    .dataframe tbody tr th:only-of-type {\n",
       "        vertical-align: middle;\n",
       "    }\n",
       "\n",
       "    .dataframe tbody tr th {\n",
       "        vertical-align: top;\n",
       "    }\n",
       "\n",
       "    .dataframe thead th {\n",
       "        text-align: right;\n",
       "    }\n",
       "</style>\n",
       "<table border=\"1\" class=\"dataframe\">\n",
       "  <thead>\n",
       "    <tr style=\"text-align: right;\">\n",
       "      <th></th>\n",
       "      <th>id</th>\n",
       "      <th>comment_text</th>\n",
       "    </tr>\n",
       "  </thead>\n",
       "  <tbody>\n",
       "    <tr>\n",
       "      <th>0</th>\n",
       "      <td>00001cee341fdb12</td>\n",
       "      <td>Yo bitch Ja Rule is more succesful then you'll...</td>\n",
       "    </tr>\n",
       "    <tr>\n",
       "      <th>1</th>\n",
       "      <td>0000247867823ef7</td>\n",
       "      <td>== From RfC == \\n\\n The title is fine as it is...</td>\n",
       "    </tr>\n",
       "    <tr>\n",
       "      <th>2</th>\n",
       "      <td>00013b17ad220c46</td>\n",
       "      <td>\" \\n\\n == Sources == \\n\\n * Zawe Ashton on Lap...</td>\n",
       "    </tr>\n",
       "    <tr>\n",
       "      <th>3</th>\n",
       "      <td>00017563c3f7919a</td>\n",
       "      <td>:If you have a look back at the source, the in...</td>\n",
       "    </tr>\n",
       "    <tr>\n",
       "      <th>4</th>\n",
       "      <td>00017695ad8997eb</td>\n",
       "      <td>I don't anonymously edit articles at all.</td>\n",
       "    </tr>\n",
       "    <tr>\n",
       "      <th>5</th>\n",
       "      <td>0001ea8717f6de06</td>\n",
       "      <td>Thank you for understanding. I think very high...</td>\n",
       "    </tr>\n",
       "    <tr>\n",
       "      <th>6</th>\n",
       "      <td>00024115d4cbde0f</td>\n",
       "      <td>Please do not add nonsense to Wikipedia. Such ...</td>\n",
       "    </tr>\n",
       "    <tr>\n",
       "      <th>7</th>\n",
       "      <td>000247e83dcc1211</td>\n",
       "      <td>:Dear god this site is horrible.</td>\n",
       "    </tr>\n",
       "    <tr>\n",
       "      <th>8</th>\n",
       "      <td>00025358d4737918</td>\n",
       "      <td>\" \\n Only a fool can believe in such numbers. ...</td>\n",
       "    </tr>\n",
       "    <tr>\n",
       "      <th>9</th>\n",
       "      <td>00026d1092fe71cc</td>\n",
       "      <td>== Double Redirects == \\n\\n When fixing double...</td>\n",
       "    </tr>\n",
       "  </tbody>\n",
       "</table>\n",
       "</div>"
      ],
      "text/plain": [
       "                 id                                       comment_text\n",
       "0  00001cee341fdb12  Yo bitch Ja Rule is more succesful then you'll...\n",
       "1  0000247867823ef7  == From RfC == \\n\\n The title is fine as it is...\n",
       "2  00013b17ad220c46  \" \\n\\n == Sources == \\n\\n * Zawe Ashton on Lap...\n",
       "3  00017563c3f7919a  :If you have a look back at the source, the in...\n",
       "4  00017695ad8997eb          I don't anonymously edit articles at all.\n",
       "5  0001ea8717f6de06  Thank you for understanding. I think very high...\n",
       "6  00024115d4cbde0f  Please do not add nonsense to Wikipedia. Such ...\n",
       "7  000247e83dcc1211                   :Dear god this site is horrible.\n",
       "8  00025358d4737918  \" \\n Only a fool can believe in such numbers. ...\n",
       "9  00026d1092fe71cc  == Double Redirects == \\n\\n When fixing double..."
      ]
     },
     "execution_count": 7,
     "metadata": {},
     "output_type": "execute_result"
    }
   ],
   "source": [
    "test.head(10)"
   ]
  },
  {
   "cell_type": "markdown",
   "metadata": {
    "id": "D8hAcigh3Sh3"
   },
   "source": [
    "# Data Exploration"
   ]
  },
  {
   "cell_type": "markdown",
   "metadata": {
    "id": "MsOBGKJI4aHT"
   },
   "source": [
    "Checking for missing values"
   ]
  },
  {
   "cell_type": "code",
   "execution_count": 8,
   "metadata": {
    "id": "ZzAnL7ly1epE",
    "outputId": "b7e5c03e-07cc-49cd-bdc8-510f25c96749"
   },
   "outputs": [
    {
     "data": {
      "text/plain": [
       "id               False\n",
       "comment_text     False\n",
       "toxic            False\n",
       "severe_toxic     False\n",
       "obscene          False\n",
       "threat           False\n",
       "insult           False\n",
       "identity_hate    False\n",
       "dtype: bool"
      ]
     },
     "execution_count": 8,
     "metadata": {},
     "output_type": "execute_result"
    }
   ],
   "source": [
    "train.isnull().any()"
   ]
  },
  {
   "cell_type": "code",
   "execution_count": 9,
   "metadata": {
    "id": "cRc5Wyw24c62",
    "outputId": "d776c399-57ba-4833-e412-adc23894889a"
   },
   "outputs": [
    {
     "data": {
      "text/plain": [
       "id              False\n",
       "comment_text    False\n",
       "dtype: bool"
      ]
     },
     "execution_count": 9,
     "metadata": {},
     "output_type": "execute_result"
    }
   ],
   "source": [
    "test.isnull().any()\n"
   ]
  },
  {
   "cell_type": "code",
   "execution_count": 10,
   "metadata": {
    "id": "TYZ93LlRbwRB"
   },
   "outputs": [],
   "source": [
    "labels = ['toxic', 'severe_toxic', 'obscene', 'threat', 'insult', 'identity_hate']\n",
    "y = train[labels].values"
   ]
  },
  {
   "cell_type": "markdown",
   "metadata": {
    "id": "NDWRHguXxOF_"
   },
   "source": [
    "#Data Pre-processing"
   ]
  },
  {
   "cell_type": "markdown",
   "metadata": {
    "id": "6z-4hq4jyhBw"
   },
   "source": [
    "## Text Normalization"
   ]
  },
  {
   "cell_type": "markdown",
   "metadata": {
    "id": "h4k-vI8DbqiP"
   },
   "source": [
    "* Removing Characters in between Text\n",
    "* Removing Repeated Characters\n",
    "* Converting data to lower-case\n",
    "* Removing Numbers from the data\n",
    "* Remove Punctuation\n",
    "* Remove Whitespaces\n",
    "* Removing spaces in between words\n",
    "* Removing \"\\n\"\n",
    "* Remove Non-english characters"
   ]
  },
  {
   "cell_type": "code",
   "execution_count": 11,
   "metadata": {
    "id": "jglnA7LEbpoA"
   },
   "outputs": [],
   "source": [
    "RE_PATTERNS = {\n",
    "    ' american ':\n",
    "        [\n",
    "            'amerikan'\n",
    "        ],\n",
    "\n",
    "    ' adolf ':\n",
    "        [\n",
    "            'adolf'\n",
    "        ],\n",
    "\n",
    "\n",
    "    ' hitler ':\n",
    "        [\n",
    "            'hitler'\n",
    "        ],\n",
    "\n",
    "    ' fuck':\n",
    "        [\n",
    "            '(f)(u|[^a-z0-9 ])(c|[^a-z0-9 ])(k|[^a-z0-9 ])([^ ])*',\n",
    "            '(f)([^a-z]*)(u)([^a-z]*)(c)([^a-z]*)(k)',\n",
    "            ' f[!@#\\$%\\^\\&\\*]*u[!@#\\$%\\^&\\*]*k', 'f u u c',\n",
    "            '(f)(c|[^a-z ])(u|[^a-z ])(k)', r'f\\*',\n",
    "            'feck ', ' fux ', 'f\\*\\*', 'f**k','fu*k',\n",
    "            'f\\-ing', 'f\\.u\\.', 'f###', ' fu ', 'f@ck', 'f u c k', 'f uck', 'f ck'\n",
    "        ],\n",
    "\n",
    "    ' ass ':\n",
    "        [\n",
    "            '[^a-z]ass ', '[^a-z]azz ', 'arrse', ' arse ', '@\\$\\$',\n",
    "            '[^a-z]anus', ' a\\*s\\*s', '[^a-z]ass[^a-z ]',\n",
    "            'a[@#\\$%\\^&\\*][@#\\$%\\^&\\*]', '[^a-z]anal ', 'a s s','a55', '@$$'\n",
    "        ],\n",
    "\n",
    "    ' ass hole ':\n",
    "        [\n",
    "            ' a[s|z]*wipe', 'a[s|z]*[w]*h[o|0]+[l]*e', '@\\$\\$hole', 'a**hole'\n",
    "        ],\n",
    "\n",
    "    ' bitch ':\n",
    "        [\n",
    "            'b[w]*i[t]*ch', 'b!tch',\n",
    "            'bi\\+ch', 'b!\\+ch', '(b)([^a-z]*)(i)([^a-z]*)(t)([^a-z]*)(c)([^a-z]*)(h)',\n",
    "            'biatch', 'bi\\*\\*h', 'bytch', 'b i t c h', 'b!tch', 'bi+ch', 'l3itch'\n",
    "        ],\n",
    "\n",
    "    ' bastard ':\n",
    "        [\n",
    "            'ba[s|z]+t[e|a]+rd'\n",
    "        ],\n",
    "\n",
    "    ' trans gender':\n",
    "        [\n",
    "            'transgender'\n",
    "        ],\n",
    "\n",
    "    ' gay ':\n",
    "        [\n",
    "            'gay'\n",
    "        ],\n",
    "\n",
    "    ' cock ':\n",
    "        [\n",
    "            '[^a-z]cock', 'c0ck', '[^a-z]cok ', 'c0k', '[^a-z]cok[^aeiou]', ' cawk',\n",
    "            '(c)([^a-z ])(o)([^a-z ]*)(c)([^a-z ]*)(k)', 'c o c k'\n",
    "        ],\n",
    "\n",
    "    ' dick ':\n",
    "        [\n",
    "            ' dick[^aeiou]', 'deek', 'd i c k', 'dik'\n",
    "        ],\n",
    "\n",
    "    ' suck ':\n",
    "        [\n",
    "            'sucker', '(s)([^a-z ]*)(u)([^a-z ]*)(c)([^a-z ]*)(k)', 'sucks', '5uck', 's u c k'\n",
    "        ],\n",
    "\n",
    "    ' cunt ':\n",
    "        [\n",
    "            'cunt', 'c u n t'\n",
    "        ],\n",
    "\n",
    "    ' bull shit ':\n",
    "        [\n",
    "            'bullsh\\*t', 'bull\\$hit'\n",
    "        ],\n",
    "\n",
    "    ' homo sex ual':\n",
    "        [\n",
    "            'homosexual'\n",
    "        ],\n",
    "\n",
    "    ' jerk ':\n",
    "        [\n",
    "            'jerk'\n",
    "        ],\n",
    "\n",
    "    ' idiot ':\n",
    "        [\n",
    "            'i[d]+io[t]+', '(i)([^a-z ]*)(d)([^a-z ]*)(i)([^a-z ]*)(o)([^a-z ]*)(t)', 'idiots'\n",
    "                                                                                      'i d i o t'\n",
    "        ],\n",
    "\n",
    "    ' dumb ':\n",
    "        [\n",
    "            '(d)([^a-z ]*)(u)([^a-z ]*)(m)([^a-z ]*)(b)'\n",
    "        ],\n",
    "\n",
    "    ' shit ':\n",
    "        [\n",
    "            'shitty', '(s)([^a-z ]*)(h)([^a-z ]*)(i)([^a-z ]*)(t)', 'shite', '\\$hit', 's h i t', '$h1t'\n",
    "        ],\n",
    "\n",
    "    ' shit hole ':\n",
    "        [\n",
    "            'shythole'\n",
    "        ],\n",
    "\n",
    "    ' retard ':\n",
    "        [\n",
    "            'returd', 'retad', 'retard', 'wiktard', 'wikitud'\n",
    "        ],\n",
    "\n",
    "    ' rape ':\n",
    "        [\n",
    "            ' raped'\n",
    "        ],\n",
    "\n",
    "    ' dumb ass':\n",
    "        [\n",
    "            'dumbass', 'dubass'\n",
    "        ],\n",
    "\n",
    "    ' ass head':\n",
    "        [\n",
    "            'butthead'\n",
    "        ],\n",
    "\n",
    "    ' sex ':\n",
    "        [\n",
    "            'sexy', 's3x', 'sexuality'\n",
    "        ],\n",
    "\n",
    "\n",
    "    ' nigger ':\n",
    "        [\n",
    "            'nigger', 'ni[g]+a', ' nigr ', 'negrito', 'niguh', 'n3gr', 'n i g g e r'\n",
    "        ],\n",
    "\n",
    "    ' shut the fuck up':\n",
    "        [\n",
    "            'stfu', 'st*u'\n",
    "        ],\n",
    "\n",
    "    ' pussy ':\n",
    "        [\n",
    "            'pussy[^c]', 'pusy', 'pussi[^l]', 'pusses', 'p*ssy'\n",
    "        ],\n",
    "\n",
    "    ' faggot ':\n",
    "        [\n",
    "            'faggot', ' fa[g]+[s]*[^a-z ]', 'fagot', 'f a g g o t', 'faggit',\n",
    "            '(f)([^a-z ]*)(a)([^a-z ]*)([g]+)([^a-z ]*)(o)([^a-z ]*)(t)', 'fau[g]+ot', 'fae[g]+ot',\n",
    "        ],\n",
    "\n",
    "    ' mother fucker':\n",
    "        [\n",
    "            ' motha ', ' motha f', ' mother f', 'motherucker',\n",
    "        ],\n",
    "\n",
    "    ' whore ':\n",
    "        [\n",
    "            'wh\\*\\*\\*', 'w h o r e'\n",
    "        ],\n",
    "    ' fucking ':\n",
    "        [\n",
    "            'f*$%-ing'\n",
    "        ],\n",
    "}\n"
   ]
  },
  {
   "cell_type": "code",
   "execution_count": 12,
   "metadata": {
    "id": "G32H2jt-J_vz"
   },
   "outputs": [],
   "source": [
    "#Ascii Removal step\n",
    "def asciiremoval(string):\n",
    "    string = re.sub('[^a-zA-Z.\\d\\s]', '', string)\n",
    "    return string\n",
    "\n",
    "#Removing dates\n",
    "def remove_dates(sentence):\n",
    "    for i in range(0,277):\n",
    "        df1[i] = df1[i].sub('(Jan|Feb|Mar|Apr|May|Jun|Jul|Aug|Sep|Oct|Nov|Dec)\\s\\d{2}\\s\\d{4}', ' ', sentence)\n",
    "\n",
    "#Removing Url\n",
    "def remove_url(txt):\n",
    "    txt_nourl=re.sub(r'(?i)\\b((?:https?://|www\\d{0,3}[.]|[a-z0-9.\\-]+[.][a-z]{2,4}/)(?:[^\\s()<>]+|\\(([^\\s()<>]+|(\\([^\\s()<>]+\\)))*\\))+(?:\\(([^\\s()<>]+|(\\([^\\s()<>]+\\)))*\\)|[^\\s`!()\\[\\]{};:\\'\".,<>?«»“”‘’]))', '', txt)\n",
    "    return txt_nourl\n",
    "\n",
    "#Punctuation Removal\n",
    "def removepunct(txt):\n",
    "    txt_nopunct=\"\".join((c for c in txt if c not in string.punctuation))\n",
    "    return txt_nopunct\n",
    "\n",
    "contractions = {\n",
    "\"ain't\": \"am not / are not\",\n",
    "\"aren't\": \"are not / am not\",\n",
    "\"can't\": \"cannot\",\n",
    "\"can't've\": \"cannot have\",\n",
    "\"'cause\": \"because\",\n",
    "\"could've\": \"could have\",\n",
    "\"couldn't\": \"could not\",\n",
    "\"couldn't've\": \"could not have\",\n",
    "\"didn't\": \"did not\",\n",
    "\"doesn't\": \"does not\",\n",
    "\"don't\": \"do not\",\n",
    "\"hadn't\": \"had not\",\n",
    "\"hadn't've\": \"had not have\",\n",
    "\"hasn't\": \"has not\",\n",
    "\"haven't\": \"have not\",\n",
    "\"he'd\": \"he had / he would\",\n",
    "\"he'd've\": \"he would have\",\n",
    "\"he'll\": \"he shall / he will\",\n",
    "\"he'll've\": \"he shall have / he will have\",\n",
    "\"he's\": \"he has / he is\",\n",
    "\"how'd\": \"how did\",\n",
    "\"how'd'y\": \"how do you\",\n",
    "\"how'll\": \"how will\",\n",
    "\"how's\": \"how has / how is\",\n",
    "\"i'd\": \"I had / I would\",\n",
    "\"i'd've\": \"I would have\",\n",
    "\"i'll\": \"I shall / I will\",\n",
    "\"i'll've\": \"I shall have / I will have\",\n",
    "\"i'm\": \"I am\",\n",
    "\"i've\": \"I have\",\n",
    "\"isn't\": \"is not\",\n",
    "\"it'd\": \"it had / it would\",\n",
    "\"it'd've\": \"it would have\",\n",
    "\"it'll\": \"it shall / it will\",\n",
    "\"it'll've\": \"it shall have / it will have\",\n",
    "\"it's\": \"it has / it is\",\n",
    "\"let's\": \"let us\",\n",
    "\"ma'am\": \"madam\",\n",
    "\"mayn't\": \"may not\",\n",
    "\"might've\": \"might have\",\n",
    "\"mightn't\": \"might not\",\n",
    "\"mightn't've\": \"might not have\",\n",
    "\"must've\": \"must have\",\n",
    "\"mustn't\": \"must not\",\n",
    "\"mustn't've\": \"must not have\",\n",
    "\"needn't\": \"need not\",\n",
    "\"needn't've\": \"need not have\",\n",
    "\"o'clock\": \"of the clock\",\n",
    "\"oughtn't\": \"ought not\",\n",
    "\"oughtn't've\": \"ought not have\",\n",
    "\"shan't\": \"shall not\",\n",
    "\"sha'n't\": \"shall not\",\n",
    "\"shan't've\": \"shall not have\",\n",
    "\"she'd\": \"she had / she would\",\n",
    "\"she'd've\": \"she would have\",\n",
    "\"she'll\": \"she shall / she will\",\n",
    "\"she'll've\": \"she shall have / she will have\",\n",
    "\"she's\": \"she has / she is\",\n",
    "\"should've\": \"should have\",\n",
    "\"shouldn't\": \"should not\",\n",
    "\"shouldn't've\": \"should not have\",\n",
    "\"so've\": \"so have\",\n",
    "\"so's\": \"so as / so is\",\n",
    "\"that'd\": \"that would / that had\",\n",
    "\"that'd've\": \"that would have\",\n",
    "\"that's\": \"that has / that is\",\n",
    "\"there'd\": \"there had / there would\",\n",
    "\"there'd've\": \"there would have\",\n",
    "\"there's\": \"there has / there is\",\n",
    "\"they'd\": \"they had / they would\",\n",
    "\"they'd've\": \"they would have\",\n",
    "\"they'll\": \"they shall / they will\",\n",
    "\"they'll've\": \"they shall have / they will have\",\n",
    "\"they're\": \"they are\",\n",
    "\"they've\": \"they have\",\n",
    "\"to've\": \"to have\",\n",
    "\"wasn't\": \"was not\",\n",
    "\"we'd\": \"we had / we would\",\n",
    "\"we'd've\": \"we would have\",\n",
    "\"we'll\": \"we will\",\n",
    "\"we'll've\": \"we will have\",\n",
    "\"we're\": \"we are\",\n",
    "\"we've\": \"we have\",\n",
    "\"weren't\": \"were not\",\n",
    "\"what'll\": \"what shall / what will\",\n",
    "\"what'll've\": \"what shall have / what will have\",\n",
    "\"what're\": \"what are\",\n",
    "\"what's\": \"what has / what is\",\n",
    "\"what've\": \"what have\",\n",
    "\"when's\": \"when has / when is\",\n",
    "\"when've\": \"when have\",\n",
    "\"where'd\": \"where did\",\n",
    "\"where's\": \"where has / where is\",\n",
    "\"where've\": \"where have\",\n",
    "\"who'll\": \"who shall / who will\",\n",
    "\"who'll've\": \"who shall have / who will have\",\n",
    "\"who's\": \"who has / who is\",\n",
    "\"who've\": \"who have\",\n",
    "\"why's\": \"why has / why is\",\n",
    "\"why've\": \"why have\",\n",
    "\"will've\": \"will have\",\n",
    "\"won't\": \"will not\",\n",
    "\"won't've\": \"will not have\",\n",
    "\"would've\": \"would have\",\n",
    "\"wouldn't\": \"would not\",\n",
    "\"wouldn't've\": \"would not have\",\n",
    "\"y'all\": \"you all\",\n",
    "\"y'all'd\": \"you all would\",\n",
    "\"y'all'd've\": \"you all would have\",\n",
    "\"y'all're\": \"you all are\",\n",
    "\"y'all've\": \"you all have\",\n",
    "\"you'd\": \"you had / you would\",\n",
    "\"you'd've\": \"you would have\",\n",
    "\"you'll\": \"you shall / you will\",\n",
    "\"you'll've\": \"you shall have / you will have\",\n",
    "\"you're\": \"you are\",\n",
    "\"you've\": \"you have\"\n",
    "}\n",
    "\n",
    "\n",
    "\n",
    "\n",
    "\n",
    "\n",
    "\n",
    "\n"
   ]
  },
  {
   "cell_type": "code",
   "execution_count": 13,
   "metadata": {
    "id": "4RetJ1vgswOG"
   },
   "outputs": [],
   "source": [
    "def clean_text(text,remove_repeat_text=True, remove_patterns_text=True, is_lower=True):\n",
    "\n",
    "  if is_lower:\n",
    "    text=text.lower()\n",
    "    \n",
    "  if remove_patterns_text:\n",
    "    for target, patterns in RE_PATTERNS.items():\n",
    "      for pat in patterns:\n",
    "        text=str(text).replace(pat, target)\n",
    "    \n",
    "\n",
    "  if remove_repeat_text:\n",
    "    text = re.sub(r'(.)\\1{2,}', r'\\1', text) \n",
    "\n",
    "  text = str(text).replace(\"\\n\", \" \")\n",
    "#Ascii Removal\n",
    "  text = re.sub('[^a-zA-Z.\\d\\s]', '', text)\n",
    "#URL removal\n",
    "  text=re.sub(r'(?i)\\b((?:https?://|www\\d{0,3}[.]|[a-z0-9.\\-]+[.][a-z]{2,4}/)(?:[^\\s()<>]+|\\(([^\\s()<>]+|(\\([^\\s()<>]+\\)))*\\))+(?:\\(([^\\s()<>]+|(\\([^\\s()<>]+\\)))*\\)|[^\\s`!()\\[\\]{};:\\'\".,<>?«»“”‘’]))', '', text)\n",
    "#Remove all the special characters \n",
    "  text = re.sub(r'[^\\w\\s]',' ',text)\n",
    "  text = re.sub('[0-9]',\"\",text)\n",
    "  text = re.sub(\" +\", \" \", text)\n",
    "#Date Removal \n",
    "  text=re.sub('(Jan|Feb|Mar|Apr|May|Jun|Jul|Aug|Sep|Oct|Nov|Dec)\\s\\d{2}\\s\\d{4}', ' ', text)\n",
    "  text= re.sub('[^a-zA-Z.\\d\\s]', '', text)\n",
    "  text = re.sub(\"([^\\x00-\\x7F])+\",\" \",text)\n",
    "  return text \n",
    "\n",
    "\n",
    "\n"
   ]
  },
  {
   "cell_type": "markdown",
   "metadata": {
    "id": "LwyO_GcPuPE_"
   },
   "source": [
    "Cleaning Training Data"
   ]
  },
  {
   "cell_type": "code",
   "execution_count": 14,
   "metadata": {
    "id": "Cak-Q0fl0qyb",
    "outputId": "241c5593-10ff-4ce0-fb68-aaa573760b0e"
   },
   "outputs": [
    {
     "data": {
      "text/plain": [
       "'daww he matches this background colour im seemingly stuck with thanks talk january utc'"
      ]
     },
     "execution_count": 14,
     "metadata": {},
     "output_type": "execute_result"
    }
   ],
   "source": [
    "train['comment_text']=train['comment_text'].apply(lambda x: clean_text(x))\n",
    "train['comment_text'][1]"
   ]
  },
  {
   "cell_type": "markdown",
   "metadata": {
    "id": "8qfbjYXq8huL"
   },
   "source": [
    "Cleaning Test Data"
   ]
  },
  {
   "cell_type": "code",
   "execution_count": 15,
   "metadata": {
    "id": "V02zaxGN8g-s",
    "outputId": "9635159a-acd5-4d4c-df74-a515d4b0f78f"
   },
   "outputs": [
    {
     "data": {
      "text/plain": [
       "'this is a university ip address just fyi '"
      ]
     },
     "execution_count": 15,
     "metadata": {},
     "output_type": "execute_result"
    }
   ],
   "source": [
    "test['comment_text']=test['comment_text'].apply(lambda x: clean_text(x))\n",
    "test['comment_text'][1048]"
   ]
  },
  {
   "cell_type": "code",
   "execution_count": 16,
   "metadata": {
    "id": "PcJrI9OeLyQe"
   },
   "outputs": [],
   "source": [
    "#train.to_csv('Data/train_preprocessed_first.csv')\n",
    "#test.to_csv('Data/test_preprocessed_first.csv')"
   ]
  },
  {
   "cell_type": "code",
   "execution_count": 17,
   "metadata": {
    "id": "khh27v77pGnC"
   },
   "outputs": [],
   "source": [
    "#test=pd.read_csv('Data/train_preprocessed_first.csv')\n",
    "#train=pd.read_csv('Data/test_preprocessed_first.csv')"
   ]
  },
  {
   "cell_type": "markdown",
   "metadata": {
    "id": "mqRVmH1FRWpL"
   },
   "source": [
    "## Lemmatization"
   ]
  },
  {
   "cell_type": "code",
   "execution_count": 18,
   "metadata": {
    "id": "vnhCAXkKUF9i"
   },
   "outputs": [],
   "source": [
    "comments_train=train['comment_text']\n",
    "comments_test=test['comment_text']"
   ]
  },
  {
   "cell_type": "code",
   "execution_count": 19,
   "metadata": {
    "id": "WwhTNF3pW7Hp"
   },
   "outputs": [],
   "source": [
    "comments_train=list(comments_train)\n",
    "comments_test=list(comments_test)"
   ]
  },
  {
   "cell_type": "code",
   "execution_count": 20,
   "metadata": {
    "id": "IuWMc1xqRVqV"
   },
   "outputs": [],
   "source": [
    "wordnet_lemmatizer = WordNetLemmatizer()"
   ]
  },
  {
   "cell_type": "code",
   "execution_count": 21,
   "metadata": {
    "id": "fi-vYUcPoi-a"
   },
   "outputs": [],
   "source": [
    "#Lemmatization\n",
    "#Pos Tagging-Noun,verb,adjective,adverb\n",
    "def lemma(text, lemmatization=True):\n",
    "  output=\"\"\n",
    "  if lemmatization:\n",
    "    text=text.split(\" \")\n",
    "    for word in text:\n",
    "       word1 = wordnet_lemmatizer.lemmatize(word, pos = \"n\")\n",
    "       word2 = wordnet_lemmatizer.lemmatize(word1, pos = \"v\")\n",
    "       word3 = wordnet_lemmatizer.lemmatize(word2, pos = \"a\")\n",
    "       word4 = wordnet_lemmatizer.lemmatize(word3, pos = \"r\")\n",
    "       output=output + \" \" + word4\n",
    "  else:\n",
    "    output=text\n",
    "  \n",
    "  return str(output.strip()) "
   ]
  },
  {
   "cell_type": "markdown",
   "metadata": {
    "id": "AX4DTjGJ-8Id"
   },
   "source": [
    "Lemmatizing Training Data"
   ]
  },
  {
   "cell_type": "code",
   "execution_count": 22,
   "metadata": {
    "colab": {
     "referenced_widgets": [
      "e9da055a9a514a8aa53eb5b538180800"
     ]
    },
    "id": "JRquFt30qWk0",
    "outputId": "d962fdfe-ef16-41b7-f788-65cccd4cdf04"
   },
   "outputs": [
    {
     "data": {
      "application/vnd.jupyter.widget-view+json": {
       "model_id": "2959f41e9507440599d0fcb4fa253c73",
       "version_major": 2,
       "version_minor": 0
      },
      "text/plain": [
       "HBox(children=(HTML(value=''), FloatProgress(value=0.0, max=159571.0), HTML(value='')))"
      ]
     },
     "metadata": {},
     "output_type": "display_data"
    },
    {
     "name": "stdout",
     "output_type": "stream",
     "text": [
      "\n"
     ]
    }
   ],
   "source": [
    "lemmatized_train_data = [] \n",
    "\n",
    "for line in tqdm_notebook(comments_train, total=159571): \n",
    "    lemmatized_train_data.append(lemma(line))"
   ]
  },
  {
   "cell_type": "code",
   "execution_count": 23,
   "metadata": {
    "id": "WK9azHjSrbic",
    "outputId": "53c89e46-74f8-49a4-825a-b06bbcb8b132"
   },
   "outputs": [
    {
     "data": {
      "text/plain": [
       "'i agree with you about graemels intention he be a revert nazi and wikipedia ha a way of protect against this report him to the wprr threerevertrule notice board post by report the revert nazi graemel ha show himselfherself to be a revert nazi this be unacceptable on a site that be make by it user and not it admins if you feel you have be unjustly revert more than time over a hour period please report himher to the threerevertnoticeboard wprr it be time to take back what be ours'"
      ]
     },
     "execution_count": 23,
     "metadata": {},
     "output_type": "execute_result"
    }
   ],
   "source": [
    "lemmatized_train_data[152458]"
   ]
  },
  {
   "cell_type": "markdown",
   "metadata": {
    "id": "yxRJbMBQ-oQ-"
   },
   "source": [
    "Lemmatizing Test Data"
   ]
  },
  {
   "cell_type": "code",
   "execution_count": 24,
   "metadata": {
    "colab": {
     "referenced_widgets": [
      "89371e5679d643fdacaa67fb8334b3de"
     ]
    },
    "id": "B4LZUmqy-vvD",
    "outputId": "641a74d7-1374-4645-ac7f-39cfda0df07b"
   },
   "outputs": [
    {
     "data": {
      "application/vnd.jupyter.widget-view+json": {
       "model_id": "d5e7bfd4a4124aa39a938b6d5e8404b5",
       "version_major": 2,
       "version_minor": 0
      },
      "text/plain": [
       "HBox(children=(HTML(value=''), FloatProgress(value=0.0, max=153164.0), HTML(value='')))"
      ]
     },
     "metadata": {},
     "output_type": "display_data"
    },
    {
     "name": "stdout",
     "output_type": "stream",
     "text": [
      "\n"
     ]
    }
   ],
   "source": [
    "lemmatized_test_data = [] \n",
    "\n",
    "for line in tqdm_notebook(comments_test, total=len(comments_test)): \n",
    "    lemmatized_test_data.append(lemma(line))"
   ]
  },
  {
   "cell_type": "markdown",
   "metadata": {
    "id": "yZaP8BH2UG0N"
   },
   "source": [
    "## Stopwords Removal"
   ]
  },
  {
   "cell_type": "code",
   "execution_count": 25,
   "metadata": {
    "id": "vNKjE4Vq8kpG"
   },
   "outputs": [],
   "source": [
    "stopword_list=STOP_WORDS"
   ]
  },
  {
   "cell_type": "markdown",
   "metadata": {
    "id": "m_oqV08mMWmk"
   },
   "source": [
    "Adding Single and Dual to STOP_WORDS"
   ]
  },
  {
   "cell_type": "code",
   "execution_count": 26,
   "metadata": {
    "id": "go7RVS52I1US"
   },
   "outputs": [],
   "source": [
    "def iter_all_strings():\n",
    "    for size in itertools.count(1):\n",
    "        for s in itertools.product(ascii_lowercase, repeat=size):\n",
    "            yield \"\".join(s)\n",
    "\n",
    "dual_alpha_list=[]\n",
    "for s in iter_all_strings():\n",
    "    dual_alpha_list.append(s)\n",
    "    if s == 'zz':\n",
    "        break"
   ]
  },
  {
   "cell_type": "code",
   "execution_count": 27,
   "metadata": {
    "id": "7_x3bQ4MIGVK"
   },
   "outputs": [],
   "source": [
    "dual_alpha_list.remove('i')\n",
    "dual_alpha_list.remove('a')\n",
    "dual_alpha_list.remove('am')\n",
    "dual_alpha_list.remove('an')\n",
    "dual_alpha_list.remove('as')\n",
    "dual_alpha_list.remove('at')\n",
    "dual_alpha_list.remove('be')\n",
    "dual_alpha_list.remove('by')\n",
    "dual_alpha_list.remove('do')\n",
    "dual_alpha_list.remove('go')\n",
    "dual_alpha_list.remove('he')\n",
    "dual_alpha_list.remove('hi')\n",
    "dual_alpha_list.remove('if')\n",
    "dual_alpha_list.remove('is')\n",
    "dual_alpha_list.remove('in')\n",
    "dual_alpha_list.remove('me')\n",
    "dual_alpha_list.remove('my')\n",
    "dual_alpha_list.remove('no')\n",
    "dual_alpha_list.remove('of')\n",
    "dual_alpha_list.remove('on')\n",
    "dual_alpha_list.remove('or')\n",
    "dual_alpha_list.remove('ok')\n",
    "dual_alpha_list.remove('so')\n",
    "dual_alpha_list.remove('to')\n",
    "dual_alpha_list.remove('up')\n",
    "dual_alpha_list.remove('us')\n",
    "dual_alpha_list.remove('we')"
   ]
  },
  {
   "cell_type": "code",
   "execution_count": 28,
   "metadata": {
    "id": "H11kkMtXMyct",
    "outputId": "7ef93dc1-26fc-46ec-fc4f-468687985d19"
   },
   "outputs": [
    {
     "name": "stdout",
     "output_type": "stream",
     "text": [
      "Done!!\n"
     ]
    }
   ],
   "source": [
    "for letter in dual_alpha_list:\n",
    "    stopword_list.add(letter)\n",
    "print(\"Done!!\")"
   ]
  },
  {
   "cell_type": "markdown",
   "metadata": {
    "id": "Ti67XuLCNnsL"
   },
   "source": [
    "Checking for other words that we may need in STOP_WORDS"
   ]
  },
  {
   "cell_type": "code",
   "execution_count": 29,
   "metadata": {
    "id": "Z4lBqjcBaDVK"
   },
   "outputs": [],
   "source": [
    "def search_stopwords(data, search_stop=True):\n",
    "  output=\"\"\n",
    "  if search_stop:\n",
    "    data=data.split(\" \")\n",
    "    for word in data:\n",
    "      if not word in stopword_list:\n",
    "        output=output+\" \"+word \n",
    "  else:\n",
    "    output=data\n",
    "\n",
    "  return str(output.strip())"
   ]
  },
  {
   "cell_type": "code",
   "execution_count": 30,
   "metadata": {
    "colab": {
     "referenced_widgets": [
      "eef94b9a14a44f1b9adaebd911d53402"
     ]
    },
    "id": "xn21RMeIbQti",
    "outputId": "41e7a7ef-f532-4cfc-bdf9-1a770163f921"
   },
   "outputs": [
    {
     "data": {
      "application/vnd.jupyter.widget-view+json": {
       "model_id": "958ad1a52a6b4271b67fbcf2fbf4a575",
       "version_major": 2,
       "version_minor": 0
      },
      "text/plain": [
       "HBox(children=(HTML(value=''), FloatProgress(value=0.0, max=159571.0), HTML(value='')))"
      ]
     },
     "metadata": {},
     "output_type": "display_data"
    },
    {
     "name": "stdout",
     "output_type": "stream",
     "text": [
      "\n"
     ]
    }
   ],
   "source": [
    "potential_stopwords = [] \n",
    "\n",
    "for line in tqdm_notebook(lemmatized_train_data, total=159571): \n",
    "    potential_stopwords.append(search_stopwords(line))"
   ]
  },
  {
   "cell_type": "code",
   "execution_count": 31,
   "metadata": {
    "id": "R4Yp_YRoap6Q",
    "outputId": "2e123cbe-2eff-4247-c4b6-3211bad6a88a"
   },
   "outputs": [
    {
     "data": {
      "text/plain": [
       "159571"
      ]
     },
     "execution_count": 31,
     "metadata": {},
     "output_type": "execute_result"
    }
   ],
   "source": [
    "len(potential_stopwords)"
   ]
  },
  {
   "cell_type": "markdown",
   "metadata": {
    "id": "PFSkmGjAZuR3"
   },
   "source": [
    "Combining all the sentences in the list into a single string"
   ]
  },
  {
   "cell_type": "code",
   "execution_count": 32,
   "metadata": {
    "id": "zpmze-Q7BrK0"
   },
   "outputs": [],
   "source": [
    "def string_combine(stopword):\n",
    "  final_a=\"\"\n",
    "  for item in range(1,159571):\n",
    "    final_a=final_a+\" \"+stopword[item]\n",
    "  return final_a\n",
    "\n"
   ]
  },
  {
   "cell_type": "code",
   "execution_count": 33,
   "metadata": {
    "id": "UqBc4rOahmAz"
   },
   "outputs": [],
   "source": [
    "total_string_potential = ''.join([word for word in potential_stopwords])"
   ]
  },
  {
   "cell_type": "code",
   "execution_count": 34,
   "metadata": {
    "id": "bNxn9-BEpGnH",
    "outputId": "65470399-8775-4a85-9c38-90ed7d590f1d"
   },
   "outputs": [
    {
     "name": "stderr",
     "output_type": "stream",
     "text": [
      "IOPub data rate exceeded.\n",
      "The notebook server will temporarily stop sending output\n",
      "to the client in order to avoid crashing it.\n",
      "To change this limit, set the config variable\n",
      "`--NotebookApp.iopub_data_rate_limit`.\n",
      "\n",
      "Current values:\n",
      "NotebookApp.iopub_data_rate_limit=1000000.0 (bytes/sec)\n",
      "NotebookApp.rate_limit_window=3.0 (secs)\n",
      "\n"
     ]
    }
   ],
   "source": [
    "print(potential_stopwords)"
   ]
  },
  {
   "cell_type": "markdown",
   "metadata": {
    "id": "hbEm3D8txMSH"
   },
   "source": [
    "Counting the number of words in each of the 4 strings"
   ]
  },
  {
   "cell_type": "code",
   "execution_count": 35,
   "metadata": {
    "id": "O_hhbMS_xR6t"
   },
   "outputs": [],
   "source": [
    "def word_count(str):\n",
    "    counts = dict()\n",
    "    words = str.split()\n",
    "\n",
    "    for word in words:\n",
    "        if word in counts:\n",
    "            counts[word] += 1\n",
    "        else:\n",
    "            counts[word] = 1\n",
    "\n",
    "    return counts"
   ]
  },
  {
   "cell_type": "code",
   "execution_count": 36,
   "metadata": {
    "id": "bsh0BuT9xSDg"
   },
   "outputs": [],
   "source": [
    "total_string_potential_dict=word_count(total_string_potential)\n"
   ]
  },
  {
   "cell_type": "markdown",
   "metadata": {
    "id": "shmHkLSk3Xxp"
   },
   "source": [
    "Converting Dictionaries to Dataframe"
   ]
  },
  {
   "cell_type": "code",
   "execution_count": 37,
   "metadata": {
    "id": "pSJXHnv6y9T0"
   },
   "outputs": [],
   "source": [
    "total_string_potential_df = pd.DataFrame(list(total_string_potential_dict.items()),columns = ['Word','Count'])"
   ]
  },
  {
   "cell_type": "markdown",
   "metadata": {
    "id": "WjWO0vj2yaW7"
   },
   "source": [
    "Getting Dataframe output in descending order"
   ]
  },
  {
   "cell_type": "code",
   "execution_count": 38,
   "metadata": {
    "id": "bzThNOjA2pjx",
    "outputId": "d08b72a2-56c2-4fa2-e223-75ef447586f8"
   },
   "outputs": [
    {
     "data": {
      "text/html": [
       "<div>\n",
       "<style scoped>\n",
       "    .dataframe tbody tr th:only-of-type {\n",
       "        vertical-align: middle;\n",
       "    }\n",
       "\n",
       "    .dataframe tbody tr th {\n",
       "        vertical-align: top;\n",
       "    }\n",
       "\n",
       "    .dataframe thead th {\n",
       "        text-align: right;\n",
       "    }\n",
       "</style>\n",
       "<table border=\"1\" class=\"dataframe\">\n",
       "  <thead>\n",
       "    <tr style=\"text-align: right;\">\n",
       "      <th></th>\n",
       "      <th>Word</th>\n",
       "      <th>Count</th>\n",
       "    </tr>\n",
       "  </thead>\n",
       "  <tbody>\n",
       "    <tr>\n",
       "      <th>0</th>\n",
       "      <td>explanation</td>\n",
       "      <td>1924</td>\n",
       "    </tr>\n",
       "    <tr>\n",
       "      <th>1</th>\n",
       "      <td>edit</td>\n",
       "      <td>36924</td>\n",
       "    </tr>\n",
       "    <tr>\n",
       "      <th>2</th>\n",
       "      <td>username</td>\n",
       "      <td>1713</td>\n",
       "    </tr>\n",
       "    <tr>\n",
       "      <th>3</th>\n",
       "      <td>hardcore</td>\n",
       "      <td>144</td>\n",
       "    </tr>\n",
       "    <tr>\n",
       "      <th>4</th>\n",
       "      <td>metallica</td>\n",
       "      <td>34</td>\n",
       "    </tr>\n",
       "    <tr>\n",
       "      <th>...</th>\n",
       "      <td>...</td>\n",
       "      <td>...</td>\n",
       "    </tr>\n",
       "    <tr>\n",
       "      <th>313518</th>\n",
       "      <td>ciu</td>\n",
       "      <td>1</td>\n",
       "    </tr>\n",
       "    <tr>\n",
       "      <th>313519</th>\n",
       "      <td>relevantnumber</td>\n",
       "      <td>1</td>\n",
       "    </tr>\n",
       "    <tr>\n",
       "      <th>313520</th>\n",
       "      <td>significantashamed</td>\n",
       "      <td>1</td>\n",
       "    </tr>\n",
       "    <tr>\n",
       "      <th>313521</th>\n",
       "      <td>pagespitzer</td>\n",
       "      <td>1</td>\n",
       "    </tr>\n",
       "    <tr>\n",
       "      <th>313522</th>\n",
       "      <td>captainlook</td>\n",
       "      <td>1</td>\n",
       "    </tr>\n",
       "  </tbody>\n",
       "</table>\n",
       "<p>313523 rows × 2 columns</p>\n",
       "</div>"
      ],
      "text/plain": [
       "                      Word  Count\n",
       "0              explanation   1924\n",
       "1                     edit  36924\n",
       "2                 username   1713\n",
       "3                 hardcore    144\n",
       "4                metallica     34\n",
       "...                    ...    ...\n",
       "313518                 ciu      1\n",
       "313519      relevantnumber      1\n",
       "313520  significantashamed      1\n",
       "313521         pagespitzer      1\n",
       "313522         captainlook      1\n",
       "\n",
       "[313523 rows x 2 columns]"
      ]
     },
     "execution_count": 38,
     "metadata": {},
     "output_type": "execute_result"
    }
   ],
   "source": [
    "total_string_potential_df"
   ]
  },
  {
   "cell_type": "markdown",
   "metadata": {
    "id": "hX3lIQj0l36i"
   },
   "source": [
    "Retaining certain words and removing others from the above list"
   ]
  },
  {
   "cell_type": "code",
   "execution_count": 39,
   "metadata": {
    "id": "zacbW5ASjN2r"
   },
   "outputs": [],
   "source": [
    "potential_stopwords=['editor', 'reference', 'thank', 'work','find', 'good', 'know', 'like', 'look', 'thing', 'want', 'time', 'list', 'section','wikipedia', 'doe', 'add','new', 'try', 'think', 'write','use', 'user', 'way', 'page']"
   ]
  },
  {
   "cell_type": "markdown",
   "metadata": {
    "id": "7-yjjvj3LpZs"
   },
   "source": [
    "Adding above retrived words into the stopwords list"
   ]
  },
  {
   "cell_type": "code",
   "execution_count": 40,
   "metadata": {
    "id": "73PbxjxbLvz9",
    "outputId": "3ee1bdb3-5eb6-4e62-86e3-525c4a1d5a45"
   },
   "outputs": [
    {
     "name": "stdout",
     "output_type": "stream",
     "text": [
      "Done!!\n"
     ]
    }
   ],
   "source": [
    "for word in potential_stopwords:\n",
    "    stopword_list.add(word)\n",
    "print(\"Done!!\")"
   ]
  },
  {
   "cell_type": "markdown",
   "metadata": {
    "id": "101v0iZjaNLR"
   },
   "source": [
    "Removing Stopwords from Training Data"
   ]
  },
  {
   "cell_type": "code",
   "execution_count": 41,
   "metadata": {
    "id": "RRSga8PKsktA"
   },
   "outputs": [],
   "source": [
    "def remove_stopwords(text, remove_stop=True):\n",
    "  output = \"\"\n",
    "  if remove_stop:\n",
    "    text=text.split(\" \")\n",
    "    for word in text:\n",
    "      if word not in stopword_list:\n",
    "        output=output + \" \" + word\n",
    "  else :\n",
    "    output=text\n",
    "\n",
    "  return str(output.strip())      "
   ]
  },
  {
   "cell_type": "code",
   "execution_count": 42,
   "metadata": {
    "colab": {
     "referenced_widgets": [
      "c9a2b2b186f3478daab3789b8d809797"
     ]
    },
    "id": "Q-hItiV7skoV",
    "outputId": "ee381e6e-bb85-4e85-d1ed-aee45e804fea"
   },
   "outputs": [
    {
     "data": {
      "application/vnd.jupyter.widget-view+json": {
       "model_id": "c56aeb1b69e740199457383c9b6855cb",
       "version_major": 2,
       "version_minor": 0
      },
      "text/plain": [
       "HBox(children=(HTML(value=''), FloatProgress(value=0.0, max=159571.0), HTML(value='')))"
      ]
     },
     "metadata": {},
     "output_type": "display_data"
    },
    {
     "name": "stdout",
     "output_type": "stream",
     "text": [
      "\n"
     ]
    }
   ],
   "source": [
    "processed_train_data = [] \n",
    "\n",
    "for line in tqdm_notebook(lemmatized_train_data, total=159571): \n",
    "    processed_train_data.append(remove_stopwords(line))"
   ]
  },
  {
   "cell_type": "code",
   "execution_count": 43,
   "metadata": {
    "id": "a29qOSPA-rbS",
    "outputId": "fe5f2f29-f825-4d6a-ee8f-7724059c0637"
   },
   "outputs": [
    {
     "data": {
      "text/plain": [
       "'agree graemels intention revert nazi protect report wprr threerevertrule notice board post report revert nazi graemel himselfherself revert nazi unacceptable site admins feel unjustly revert hour period report himher threerevertnoticeboard wprr'"
      ]
     },
     "execution_count": 43,
     "metadata": {},
     "output_type": "execute_result"
    }
   ],
   "source": [
    "processed_train_data[152458]"
   ]
  },
  {
   "cell_type": "markdown",
   "metadata": {
    "id": "iqXHFaSC-Bkf"
   },
   "source": [
    "Removing Stopwords from Test Data"
   ]
  },
  {
   "cell_type": "code",
   "execution_count": 44,
   "metadata": {
    "colab": {
     "referenced_widgets": [
      "46e16ecd77ae42739eb757e899c43398"
     ]
    },
    "id": "EQ_lUOej-H_b",
    "outputId": "0c5af3e3-1264-4757-fd7f-e4fc2b929bd4"
   },
   "outputs": [
    {
     "data": {
      "application/vnd.jupyter.widget-view+json": {
       "model_id": "dcc1a88e4a20472bb8e86c094eaa8c50",
       "version_major": 2,
       "version_minor": 0
      },
      "text/plain": [
       "HBox(children=(HTML(value=''), FloatProgress(value=0.0, max=153164.0), HTML(value='')))"
      ]
     },
     "metadata": {},
     "output_type": "display_data"
    },
    {
     "name": "stdout",
     "output_type": "stream",
     "text": [
      "\n"
     ]
    }
   ],
   "source": [
    "processed_test_data = [] \n",
    "\n",
    "for line in tqdm_notebook(lemmatized_test_data, total=153164): \n",
    "    processed_test_data.append(remove_stopwords(line))"
   ]
  },
  {
   "cell_type": "markdown",
   "metadata": {
    "id": "CeScalvZDEdD"
   },
   "source": [
    "# Model Building"
   ]
  },
  {
   "cell_type": "code",
   "execution_count": 45,
   "metadata": {
    "id": "SkK1P-CdX_0N"
   },
   "outputs": [],
   "source": [
    "max_features=100000      \n",
    "maxpadlen = 200          \n",
    "val_split = 0.2      \n",
    "embedding_dim_fasttext = 300"
   ]
  },
  {
   "cell_type": "markdown",
   "metadata": {
    "id": "GIeovLIr6aAo"
   },
   "source": [
    "Tokenization"
   ]
  },
  {
   "cell_type": "code",
   "execution_count": 46,
   "metadata": {
    "id": "qaA52PlK4xnV"
   },
   "outputs": [],
   "source": [
    "tokenizer = Tokenizer(num_words=max_features)\n",
    "tokenizer.fit_on_texts(list(processed_train_data))\n",
    "list_tokenized_train = tokenizer.texts_to_sequences(processed_train_data)\n",
    "list_tokenized_test = tokenizer.texts_to_sequences(processed_test_data)"
   ]
  },
  {
   "cell_type": "code",
   "execution_count": 47,
   "metadata": {
    "id": "pkSXj5sT7jbR",
    "outputId": "307a0e89-169a-4c96-a0e8-35573bdf18f4"
   },
   "outputs": [
    {
     "name": "stdout",
     "output_type": "stream",
     "text": [
      "Words in Vocabulary:  195330\n"
     ]
    }
   ],
   "source": [
    "word_index=tokenizer.word_index\n",
    "print(\"Words in Vocabulary: \",len(word_index))"
   ]
  },
  {
   "cell_type": "markdown",
   "metadata": {
    "id": "TfDwmzPj8TJf"
   },
   "source": [
    "Padding"
   ]
  },
  {
   "cell_type": "code",
   "execution_count": 48,
   "metadata": {
    "id": "gEmacO337twa"
   },
   "outputs": [],
   "source": [
    "X_t=pad_sequences(list_tokenized_train, maxlen=maxpadlen, padding = 'post')\n",
    "X_te=pad_sequences(list_tokenized_test, maxlen=maxpadlen, padding = 'post')"
   ]
  },
  {
   "cell_type": "code",
   "execution_count": 49,
   "metadata": {
    "id": "U6dAeWAnM4RL",
    "outputId": "c42c0ed1-c46d-437f-c8e2-7b89aa5319a0"
   },
   "outputs": [
    {
     "name": "stdout",
     "output_type": "stream",
     "text": [
      "Tokenized sentences: \n",
      " [  137   562 32684   241   188 32684   241    93    17   559    17   137\n",
      "   361   562     1  1055   137   329  5354   137   147    17   379   286\n",
      "   361   562    17     1  1312   137    17   379     2    32   137   562\n",
      "   188   137   175    45    89   559   137   562    17     2   480   111\n",
      "    10  1063   420  1066    17  2321   510    36   137    17   188   394\n",
      "   361     9   252   188   239   146   109    19    20    28   175    77\n",
      "    20     3   318  4415     5 32684   241   188 32684   241    93   256\n",
      "   379   300    60   559    37    44    77   422  1495    37   256     8\n",
      "   559  1281    77  1600   125    10   125  4610   125   101    44   541\n",
      "  1219    14    77  1327   114   125  1628    77  1097     5   498    77\n",
      "   455    34   256    60  3222   165  2205   461    34   319  1511    68\n",
      "   175   233   146  2513    34    34  1517    77  4648  1517    77    34\n",
      "    77    34   188   256    45    89   559     5    34   256   188    79\n",
      "    10   833  3087    17     9   252    34   239   146   109    19    17\n",
      "    77   967   455  2513    17     9   354    20    28   175    77    20\n",
      "     3   318     0     0     0     0     0     0     0     0     0     0\n",
      "     0     0     0     0     0     0     0     0]\n",
      "One hot label: \n",
      " [0 0 0 0 0 0]\n"
     ]
    }
   ],
   "source": [
    "print('Tokenized sentences: \\n', X_t[10])\n",
    "print('One hot label: \\n', y[10])"
   ]
  },
  {
   "cell_type": "code",
   "execution_count": 50,
   "metadata": {
    "id": "XtZD1j9BCrsG"
   },
   "outputs": [],
   "source": [
    "indices = np.arange(X_t.shape[0])\n",
    "np.random.shuffle(indices)"
   ]
  },
  {
   "cell_type": "code",
   "execution_count": 51,
   "metadata": {
    "id": "k51hkGqOnZLB",
    "outputId": "1641df61-cac1-4885-d7cd-6cb942c2d9da"
   },
   "outputs": [
    {
     "name": "stdout",
     "output_type": "stream",
     "text": [
      "Features are : \n",
      " [[   42   224     2 ...     0     0     0]\n",
      " [  639   470   470 ...     0     0     0]\n",
      " [  647  1044    15 ...     0     0     0]\n",
      " ...\n",
      " [   23   374   706 ...     0     0     0]\n",
      " [10987     2    26 ...     0     0     0]\n",
      " [  700    51   204 ...     0     0     0]]\n",
      "labels are: \n",
      " [[0 0 0 0 0 0]\n",
      " [0 0 0 0 0 0]\n",
      " [0 0 0 0 0 0]\n",
      " ...\n",
      " [0 0 0 0 0 0]\n",
      " [0 0 0 0 0 0]\n",
      " [0 0 0 0 0 0]]\n"
     ]
    }
   ],
   "source": [
    "X_t = X_t[indices]\n",
    "labels = y[indices]\n",
    "print('Features are :','\\n',X_t)\n",
    "print('labels are:','\\n',labels)"
   ]
  },
  {
   "cell_type": "markdown",
   "metadata": {
    "id": "MWn-SkJCCswd"
   },
   "source": [
    "### Splitting data into Training and Validation Set"
   ]
  },
  {
   "cell_type": "code",
   "execution_count": 52,
   "metadata": {
    "id": "B5hOSGJVb7o4"
   },
   "outputs": [],
   "source": [
    "num_validation_samples = int(val_split*X_t.shape[0])\n",
    "x_train = X_t[: -num_validation_samples]\n",
    "y_train = labels[: -num_validation_samples]\n",
    "x_val = X_t[-num_validation_samples: ]\n",
    "y_val = labels[-num_validation_samples: ]\n"
   ]
  },
  {
   "cell_type": "code",
   "execution_count": 53,
   "metadata": {
    "id": "cHyYFZPDcEmK",
    "outputId": "ef1b691f-459e-4080-d242-81c6d15751de"
   },
   "outputs": [
    {
     "name": "stdout",
     "output_type": "stream",
     "text": [
      "Number of entries in each category:\n",
      "training:  [12198  1258  6742   377  6298  1117]\n",
      "validation:  [3096  337 1707  101 1579  288]\n"
     ]
    }
   ],
   "source": [
    "print('Number of entries in each category:')\n",
    "print('training: ', y_train.sum(axis=0))\n",
    "print('validation: ', y_val.sum(axis=0))"
   ]
  },
  {
   "cell_type": "markdown",
   "metadata": {
    "id": "hL7Mv1Z6D8_w"
   },
   "source": [
    "### Importing Fast Text"
   ]
  },
  {
   "cell_type": "code",
   "execution_count": 55,
   "metadata": {
    "id": "xYda1181pGnN"
   },
   "outputs": [
    {
     "name": "stderr",
     "output_type": "stream",
     "text": [
      "2.26GB [00:42, 53.2MB/s]                                                                                               \n"
     ]
    }
   ],
   "source": [
    "import requests, zipfile, io\n",
    "from tqdm import tqdm\n",
    "\n",
    "zip_file_url = \"https://dl.fbaipublicfiles.com/fasttext/vectors-english/wiki-news-300d-1M.vec.zip\"\n",
    "\n",
    "with requests.get(zip_file_url, stream=True) as r:\n",
    "    r.raise_for_status()\n",
    "    total_size = int(r.headers.get('content-length', 0))\n",
    "    block_size = 1024  # 1 KB\n",
    "    with tqdm(total=total_size, unit='B', unit_scale=True) as progress_bar:\n",
    "        with zipfile.ZipFile(io.BytesIO(r.content)) as z:\n",
    "            for member in z.infolist():\n",
    "                progress_bar.update(member.file_size)\n",
    "                z.extract(member)\n",
    "\n"
   ]
  },
  {
   "cell_type": "code",
   "execution_count": 56,
   "metadata": {
    "id": "vsvNLXZ6DlWS"
   },
   "outputs": [],
   "source": [
    "import codecs\n",
    "embeddings_index_fasttext = {}\n",
    "\n",
    "f = codecs.open('wiki-news-300d-1M.vec', encoding='utf-8')\n",
    "\n",
    "\n",
    "for line in f:\n",
    "\n",
    "    values = line.rstrip().rsplit(' ')\n",
    "\n",
    "    word = values[0]\n",
    "\n",
    "    coefs = np.asarray(values[1:], dtype='float32')\n",
    "\n",
    "    embeddings_index_fasttext[word] = coefs\n",
    "\n",
    "f.close()\n"
   ]
  },
  {
   "cell_type": "code",
   "execution_count": 57,
   "metadata": {
    "id": "hpkSOB6iEFCB",
    "outputId": "19bf6e17-1323-4099-a61c-cbd1178a4067"
   },
   "outputs": [
    {
     "name": "stdout",
     "output_type": "stream",
     "text": [
      "Completed!\n",
      "number of null word embeddings: 0\n"
     ]
    }
   ],
   "source": [
    "embedding_matrix_fasttext = np.random.random((len(word_index) + 1, embedding_dim_fasttext))\n",
    "for word, i in word_index.items():\n",
    "    embedding_vector = embeddings_index_fasttext.get(word)\n",
    "    if embedding_vector is not None:\n",
    "        embedding_matrix_fasttext[i] = embedding_vector\n",
    "        \n",
    "print(\"Completed!\")\n",
    "print('number of null word embeddings: %d' % np.sum(np.sum(embedding_matrix_fasttext, axis=1) == 0))"
   ]
  },
  {
   "cell_type": "markdown",
   "metadata": {
    "id": "0OoZ7fTpPWhi"
   },
   "source": [
    "### Creating Model"
   ]
  },
  {
   "cell_type": "markdown",
   "metadata": {
    "id": "Dwzg_WX32OG3"
   },
   "source": [
    "#### Talos Grid Search  for LSTM Model"
   ]
  },
  {
   "cell_type": "code",
   "execution_count": 58,
   "metadata": {
    "id": "oZdik3-jGkye"
   },
   "outputs": [],
   "source": [
    "def toxic_classifier(x_train,y_train,x_val,y_val,params):\n",
    "\n",
    "  inp=Input(shape=(maxpadlen, ),dtype='int32')\n",
    "\n",
    "  embedding_layer = Embedding(len(word_index) + 1,\n",
    "                           embedding_dim_fasttext,\n",
    "                           weights = [embedding_matrix_fasttext],\n",
    "                           input_length = maxpadlen,\n",
    "                           trainable=False,\n",
    "                           name = 'embeddings')\n",
    "  embedded_sequences = embedding_layer(inp)\n",
    "\n",
    "  x = LSTM(params['output_count_lstm'], return_sequences=True,name='lstm_layer')(embedded_sequences)\n",
    "  \n",
    "  x = GlobalMaxPool1D()(x)\n",
    "  \n",
    "  x = Dropout(params['dropout'])(x)\n",
    "  \n",
    "  x = Dense(params['output_count_dense'], activation=params['activation'], kernel_initializer='he_uniform')(x)\n",
    "  \n",
    "  x = Dropout(params['dropout'])(x)\n",
    "  \n",
    "  preds = Dense(6, activation=params['last_activation'], kernel_initializer='glorot_uniform')(x)\n",
    "\n",
    "  model = Model(inputs=inp, outputs=preds)\n",
    "\n",
    "  model.compile(loss=params['loss'], optimizer=params['optimizer'], metrics=['accuracy'])\n",
    "\n",
    "  model_info=model.fit(x_train,y_train, epochs=params['epochs'], batch_size=params['batch_size'],  validation_data=(x_val, y_val))\n",
    "\n",
    "  return model_info, model"
   ]
  },
  {
   "cell_type": "code",
   "execution_count": 59,
   "metadata": {
    "id": "-6AtSibHGoTU"
   },
   "outputs": [],
   "source": [
    "p={\n",
    "    'output_count_lstm': [40,50,60],\n",
    "    'output_count_dense': [30,40,50],\n",
    "    'batch_size': [32],\n",
    "    'epochs':[2],\n",
    "    'optimizer':['adam'],\n",
    "    'activation':['relu'],\n",
    "    'last_activation': ['sigmoid'],\n",
    "    'dropout':[0.1,0.2],\n",
    "    'loss': ['binary_crossentropy']   \n",
    "}"
   ]
  },
  {
   "cell_type": "code",
   "execution_count": 60,
   "metadata": {
    "id": "DAnaHxh1GpFi",
    "outputId": "f6ca1d2b-a48a-4359-8640-7094206f158a",
    "scrolled": true
   },
   "outputs": [
    {
     "name": "stderr",
     "output_type": "stream",
     "text": [
      "\r",
      "  0%|                                                                                           | 0/18 [00:00<?, ?it/s]"
     ]
    },
    {
     "name": "stdout",
     "output_type": "stream",
     "text": [
      "{'output_count_lstm': 40, 'output_count_dense': 30, 'batch_size': 32, 'epochs': 2, 'optimizer': 'adam', 'activation': 'relu', 'last_activation': 'sigmoid', 'dropout': 0.1, 'loss': 'binary_crossentropy'}\n",
      "Epoch 1/2\n",
      "3990/3990 [==============================] - 267s 66ms/step - loss: 0.0653 - accuracy: 0.9314 - val_loss: 0.0500 - val_accuracy: 0.9942\n",
      "Epoch 2/2\n",
      "3990/3990 [==============================] - 286s 72ms/step - loss: 0.0504 - accuracy: 0.9748 - val_loss: 0.0475 - val_accuracy: 0.9920\n"
     ]
    },
    {
     "name": "stderr",
     "output_type": "stream",
     "text": [
      "\r",
      "  6%|████▍                                                                           | 1/18 [09:24<2:39:57, 564.53s/it]"
     ]
    },
    {
     "name": "stdout",
     "output_type": "stream",
     "text": [
      "{'output_count_lstm': 40, 'output_count_dense': 30, 'batch_size': 32, 'epochs': 2, 'optimizer': 'adam', 'activation': 'relu', 'last_activation': 'sigmoid', 'dropout': 0.2, 'loss': 'binary_crossentropy'}\n",
      "Epoch 1/2\n",
      "3990/3990 [==============================] - 288s 72ms/step - loss: 0.0686 - accuracy: 0.9137 - val_loss: 0.0504 - val_accuracy: 0.9942\n",
      "Epoch 2/2\n",
      "3990/3990 [==============================] - 261s 65ms/step - loss: 0.0531 - accuracy: 0.9886 - val_loss: 0.0489 - val_accuracy: 0.9942\n"
     ]
    },
    {
     "name": "stderr",
     "output_type": "stream",
     "text": [
      "\r",
      " 11%|████████▉                                                                       | 2/18 [18:36<2:29:30, 560.64s/it]"
     ]
    },
    {
     "name": "stdout",
     "output_type": "stream",
     "text": [
      "{'output_count_lstm': 40, 'output_count_dense': 40, 'batch_size': 32, 'epochs': 2, 'optimizer': 'adam', 'activation': 'relu', 'last_activation': 'sigmoid', 'dropout': 0.1, 'loss': 'binary_crossentropy'}\n",
      "Epoch 1/2\n",
      "3990/3990 [==============================] - 300s 75ms/step - loss: 0.0645 - accuracy: 0.9264 - val_loss: 0.0494 - val_accuracy: 0.9942\n",
      "Epoch 2/2\n",
      "3990/3990 [==============================] - 423s 106ms/step - loss: 0.0505 - accuracy: 0.9832 - val_loss: 0.0485 - val_accuracy: 0.9942\n"
     ]
    },
    {
     "name": "stderr",
     "output_type": "stream",
     "text": [
      "\r",
      " 17%|█████████████▎                                                                  | 3/18 [30:42<2:32:35, 610.35s/it]"
     ]
    },
    {
     "name": "stdout",
     "output_type": "stream",
     "text": [
      "{'output_count_lstm': 40, 'output_count_dense': 40, 'batch_size': 32, 'epochs': 2, 'optimizer': 'adam', 'activation': 'relu', 'last_activation': 'sigmoid', 'dropout': 0.2, 'loss': 'binary_crossentropy'}\n",
      "Epoch 1/2\n",
      "3990/3990 [==============================] - 431s 107ms/step - loss: 0.0707 - accuracy: 0.9403 - val_loss: 0.0495 - val_accuracy: 0.9942\n",
      "Epoch 2/2\n",
      "3990/3990 [==============================] - 419s 105ms/step - loss: 0.0518 - accuracy: 0.9933 - val_loss: 0.0474 - val_accuracy: 0.9942\n"
     ]
    },
    {
     "name": "stderr",
     "output_type": "stream",
     "text": [
      "\r",
      " 22%|█████████████████▊                                                              | 4/18 [45:02<2:39:52, 685.16s/it]"
     ]
    },
    {
     "name": "stdout",
     "output_type": "stream",
     "text": [
      "{'output_count_lstm': 40, 'output_count_dense': 50, 'batch_size': 32, 'epochs': 2, 'optimizer': 'adam', 'activation': 'relu', 'last_activation': 'sigmoid', 'dropout': 0.1, 'loss': 'binary_crossentropy'}\n",
      "Epoch 1/2\n",
      "3990/3990 [==============================] - 545s 136ms/step - loss: 0.0609 - accuracy: 0.9580 - val_loss: 0.0481 - val_accuracy: 0.9940\n",
      "Epoch 2/2\n",
      "3990/3990 [==============================] - 464s 116ms/step - loss: 0.0492 - accuracy: 0.9887 - val_loss: 0.0469 - val_accuracy: 0.9939\n"
     ]
    },
    {
     "name": "stderr",
     "output_type": "stream",
     "text": [
      "\r",
      " 28%|█████████████████████▋                                                        | 5/18 [1:01:55<2:49:47, 783.69s/it]"
     ]
    },
    {
     "name": "stdout",
     "output_type": "stream",
     "text": [
      "{'output_count_lstm': 40, 'output_count_dense': 50, 'batch_size': 32, 'epochs': 2, 'optimizer': 'adam', 'activation': 'relu', 'last_activation': 'sigmoid', 'dropout': 0.2, 'loss': 'binary_crossentropy'}\n",
      "Epoch 1/2\n",
      "3990/3990 [==============================] - 387s 96ms/step - loss: 0.0681 - accuracy: 0.9372 - val_loss: 0.0500 - val_accuracy: 0.9942\n",
      "Epoch 2/2\n",
      "3990/3990 [==============================] - 438s 110ms/step - loss: 0.0512 - accuracy: 0.9862 - val_loss: 0.0493 - val_accuracy: 0.9942\n"
     ]
    },
    {
     "name": "stderr",
     "output_type": "stream",
     "text": [
      "\r",
      " 33%|██████████████████████████                                                    | 6/18 [1:15:43<2:39:24, 797.02s/it]"
     ]
    },
    {
     "name": "stdout",
     "output_type": "stream",
     "text": [
      "{'output_count_lstm': 50, 'output_count_dense': 30, 'batch_size': 32, 'epochs': 2, 'optimizer': 'adam', 'activation': 'relu', 'last_activation': 'sigmoid', 'dropout': 0.1, 'loss': 'binary_crossentropy'}\n",
      "Epoch 1/2\n",
      "3990/3990 [==============================] - 587s 147ms/step - loss: 0.0659 - accuracy: 0.9170 - val_loss: 0.0491 - val_accuracy: 0.9942\n",
      "Epoch 2/2\n",
      "3990/3990 [==============================] - 406s 102ms/step - loss: 0.0501 - accuracy: 0.9825 - val_loss: 0.0464 - val_accuracy: 0.9937\n"
     ]
    },
    {
     "name": "stderr",
     "output_type": "stream",
     "text": [
      "\r",
      " 39%|██████████████████████████████▎                                               | 7/18 [1:32:19<2:37:02, 856.59s/it]"
     ]
    },
    {
     "name": "stdout",
     "output_type": "stream",
     "text": [
      "{'output_count_lstm': 50, 'output_count_dense': 30, 'batch_size': 32, 'epochs': 2, 'optimizer': 'adam', 'activation': 'relu', 'last_activation': 'sigmoid', 'dropout': 0.2, 'loss': 'binary_crossentropy'}\n",
      "Epoch 1/2\n",
      "3990/3990 [==============================] - 534s 133ms/step - loss: 0.0681 - accuracy: 0.8820 - val_loss: 0.0503 - val_accuracy: 0.9942\n",
      "Epoch 2/2\n",
      "3990/3990 [==============================] - 351s 88ms/step - loss: 0.0516 - accuracy: 0.9857 - val_loss: 0.0473 - val_accuracy: 0.9942\n"
     ]
    },
    {
     "name": "stderr",
     "output_type": "stream",
     "text": [
      "\r",
      " 44%|██████████████████████████████████▋                                           | 8/18 [1:47:06<2:24:16, 865.64s/it]"
     ]
    },
    {
     "name": "stdout",
     "output_type": "stream",
     "text": [
      "{'output_count_lstm': 50, 'output_count_dense': 40, 'batch_size': 32, 'epochs': 2, 'optimizer': 'adam', 'activation': 'relu', 'last_activation': 'sigmoid', 'dropout': 0.1, 'loss': 'binary_crossentropy'}\n",
      "Epoch 1/2\n",
      "3990/3990 [==============================] - 344s 86ms/step - loss: 0.0640 - accuracy: 0.9405 - val_loss: 0.0489 - val_accuracy: 0.9942\n",
      "Epoch 2/2\n",
      "3990/3990 [==============================] - 408s 102ms/step - loss: 0.0493 - accuracy: 0.9849 - val_loss: 0.0464 - val_accuracy: 0.9942\n"
     ]
    },
    {
     "name": "stderr",
     "output_type": "stream",
     "text": [
      "\r",
      " 50%|███████████████████████████████████████                                       | 9/18 [1:59:40<2:04:51, 832.37s/it]"
     ]
    },
    {
     "name": "stdout",
     "output_type": "stream",
     "text": [
      "{'output_count_lstm': 50, 'output_count_dense': 40, 'batch_size': 32, 'epochs': 2, 'optimizer': 'adam', 'activation': 'relu', 'last_activation': 'sigmoid', 'dropout': 0.2, 'loss': 'binary_crossentropy'}\n",
      "Epoch 1/2\n",
      "3990/3990 [==============================] - 347s 86ms/step - loss: 0.0649 - accuracy: 0.9194 - val_loss: 0.0507 - val_accuracy: 0.9942\n",
      "Epoch 2/2\n",
      "3990/3990 [==============================] - 322s 81ms/step - loss: 0.0514 - accuracy: 0.9840 - val_loss: 0.0485 - val_accuracy: 0.9942\n"
     ]
    },
    {
     "name": "stderr",
     "output_type": "stream",
     "text": [
      "\r",
      " 56%|██████████████████████████████████████████▊                                  | 10/18 [2:10:53<1:44:34, 784.32s/it]"
     ]
    },
    {
     "name": "stdout",
     "output_type": "stream",
     "text": [
      "{'output_count_lstm': 50, 'output_count_dense': 50, 'batch_size': 32, 'epochs': 2, 'optimizer': 'adam', 'activation': 'relu', 'last_activation': 'sigmoid', 'dropout': 0.1, 'loss': 'binary_crossentropy'}\n",
      "Epoch 1/2\n",
      "3990/3990 [==============================] - 347s 87ms/step - loss: 0.0619 - accuracy: 0.9586 - val_loss: 0.0488 - val_accuracy: 0.9940\n",
      "Epoch 2/2\n",
      "3990/3990 [==============================] - 324s 81ms/step - loss: 0.0496 - accuracy: 0.9885 - val_loss: 0.0466 - val_accuracy: 0.9942\n"
     ]
    },
    {
     "name": "stderr",
     "output_type": "stream",
     "text": [
      "\r",
      " 61%|███████████████████████████████████████████████                              | 11/18 [2:22:09<1:27:42, 751.82s/it]"
     ]
    },
    {
     "name": "stdout",
     "output_type": "stream",
     "text": [
      "{'output_count_lstm': 50, 'output_count_dense': 50, 'batch_size': 32, 'epochs': 2, 'optimizer': 'adam', 'activation': 'relu', 'last_activation': 'sigmoid', 'dropout': 0.2, 'loss': 'binary_crossentropy'}\n",
      "Epoch 1/2\n",
      "3990/3990 [==============================] - 323s 80ms/step - loss: 0.0649 - accuracy: 0.9441 - val_loss: 0.0505 - val_accuracy: 0.9942\n",
      "Epoch 2/2\n",
      "3990/3990 [==============================] - 297s 74ms/step - loss: 0.0513 - accuracy: 0.9856 - val_loss: 0.0471 - val_accuracy: 0.9942\n"
     ]
    },
    {
     "name": "stderr",
     "output_type": "stream",
     "text": [
      "\r",
      " 67%|███████████████████████████████████████████████████▎                         | 12/18 [2:32:32<1:11:19, 713.23s/it]"
     ]
    },
    {
     "name": "stdout",
     "output_type": "stream",
     "text": [
      "{'output_count_lstm': 60, 'output_count_dense': 30, 'batch_size': 32, 'epochs': 2, 'optimizer': 'adam', 'activation': 'relu', 'last_activation': 'sigmoid', 'dropout': 0.1, 'loss': 'binary_crossentropy'}\n",
      "Epoch 1/2\n",
      "3990/3990 [==============================] - 16250s 4s/step - loss: 0.0647 - accuracy: 0.9242 - val_loss: 0.0488 - val_accuracy: 0.9942\n",
      "Epoch 2/2\n",
      "3990/3990 [==============================] - 308s 77ms/step - loss: 0.0497 - accuracy: 0.9875 - val_loss: 0.0469 - val_accuracy: 0.9941\n"
     ]
    },
    {
     "name": "stderr",
     "output_type": "stream",
     "text": [
      "\r",
      " 72%|██████████████████████████████████████████████████████▉                     | 13/18 [7:08:33<7:35:38, 5467.75s/it]"
     ]
    },
    {
     "name": "stdout",
     "output_type": "stream",
     "text": [
      "{'output_count_lstm': 60, 'output_count_dense': 30, 'batch_size': 32, 'epochs': 2, 'optimizer': 'adam', 'activation': 'relu', 'last_activation': 'sigmoid', 'dropout': 0.2, 'loss': 'binary_crossentropy'}\n",
      "Epoch 1/2\n",
      "3990/3990 [==============================] - 333s 83ms/step - loss: 0.0681 - accuracy: 0.9061 - val_loss: 0.0500 - val_accuracy: 0.9942\n",
      "Epoch 2/2\n",
      "3990/3990 [==============================] - 324s 81ms/step - loss: 0.0530 - accuracy: 0.9889 - val_loss: 0.0488 - val_accuracy: 0.9942\n"
     ]
    },
    {
     "name": "stderr",
     "output_type": "stream",
     "text": [
      "\r",
      " 78%|███████████████████████████████████████████████████████████                 | 14/18 [7:19:34<4:28:22, 4025.50s/it]"
     ]
    },
    {
     "name": "stdout",
     "output_type": "stream",
     "text": [
      "{'output_count_lstm': 60, 'output_count_dense': 40, 'batch_size': 32, 'epochs': 2, 'optimizer': 'adam', 'activation': 'relu', 'last_activation': 'sigmoid', 'dropout': 0.1, 'loss': 'binary_crossentropy'}\n",
      "Epoch 1/2\n",
      "3990/3990 [==============================] - 323s 81ms/step - loss: 0.0623 - accuracy: 0.9653 - val_loss: 0.0486 - val_accuracy: 0.9942\n",
      "Epoch 2/2\n",
      "3990/3990 [==============================] - 316s 79ms/step - loss: 0.0495 - accuracy: 0.9882 - val_loss: 0.0466 - val_accuracy: 0.9941\n"
     ]
    },
    {
     "name": "stderr",
     "output_type": "stream",
     "text": [
      "\r",
      " 83%|███████████████████████████████████████████████████████████████▎            | 15/18 [7:30:15<2:30:30, 3010.16s/it]"
     ]
    },
    {
     "name": "stdout",
     "output_type": "stream",
     "text": [
      "{'output_count_lstm': 60, 'output_count_dense': 40, 'batch_size': 32, 'epochs': 2, 'optimizer': 'adam', 'activation': 'relu', 'last_activation': 'sigmoid', 'dropout': 0.2, 'loss': 'binary_crossentropy'}\n",
      "Epoch 1/2\n",
      "3990/3990 [==============================] - 452s 113ms/step - loss: 0.0660 - accuracy: 0.9127 - val_loss: 0.0522 - val_accuracy: 0.9942\n",
      "Epoch 2/2\n",
      "3990/3990 [==============================] - 506s 127ms/step - loss: 0.0519 - accuracy: 0.9869 - val_loss: 0.0518 - val_accuracy: 0.9942\n"
     ]
    },
    {
     "name": "stderr",
     "output_type": "stream",
     "text": [
      "\r",
      " 89%|███████████████████████████████████████████████████████████████████▌        | 16/18 [7:46:14<1:19:49, 2394.92s/it]"
     ]
    },
    {
     "name": "stdout",
     "output_type": "stream",
     "text": [
      "{'output_count_lstm': 60, 'output_count_dense': 50, 'batch_size': 32, 'epochs': 2, 'optimizer': 'adam', 'activation': 'relu', 'last_activation': 'sigmoid', 'dropout': 0.1, 'loss': 'binary_crossentropy'}\n",
      "Epoch 1/2\n",
      "3990/3990 [==============================] - 332s 83ms/step - loss: 0.0653 - accuracy: 0.9233 - val_loss: 0.0499 - val_accuracy: 0.9942\n",
      "Epoch 2/2\n",
      "3990/3990 [==============================] - 305s 76ms/step - loss: 0.0501 - accuracy: 0.9680 - val_loss: 0.0472 - val_accuracy: 0.9899\n"
     ]
    },
    {
     "name": "stderr",
     "output_type": "stream",
     "text": [
      "\r",
      " 94%|█████████████████████████████████████████████████████████████████████████▋    | 17/18 [7:56:53<31:08, 1868.14s/it]"
     ]
    },
    {
     "name": "stdout",
     "output_type": "stream",
     "text": [
      "{'output_count_lstm': 60, 'output_count_dense': 50, 'batch_size': 32, 'epochs': 2, 'optimizer': 'adam', 'activation': 'relu', 'last_activation': 'sigmoid', 'dropout': 0.2, 'loss': 'binary_crossentropy'}\n",
      "Epoch 1/2\n",
      "3990/3990 [==============================] - 311s 77ms/step - loss: 0.0645 - accuracy: 0.9204 - val_loss: 0.0494 - val_accuracy: 0.9942\n",
      "Epoch 2/2\n",
      "3990/3990 [==============================] - 418s 105ms/step - loss: 0.0501 - accuracy: 0.9807 - val_loss: 0.0475 - val_accuracy: 0.9942\n"
     ]
    },
    {
     "name": "stderr",
     "output_type": "stream",
     "text": [
      "100%|██████████████████████████████████████████████████████████████████████████████| 18/18 [8:09:07<00:00, 1630.39s/it]\n"
     ]
    }
   ],
   "source": [
    "from keras import Sequential\n",
    "scan_results = talos.Scan(x=x_train,\n",
    "               y=y_train,\n",
    "               x_val=x_val,\n",
    "               y_val=y_val,\n",
    "               model=toxic_classifier,\n",
    "               params=p,\n",
    "               experiment_name='tcc',\n",
    "               print_params=True)"
   ]
  },
  {
   "cell_type": "code",
   "execution_count": 61,
   "metadata": {
    "id": "HXl1ZQSWtdYK",
    "outputId": "b854759d-013d-4193-9a15-4415d0d08800"
   },
   "outputs": [
    {
     "data": {
      "text/plain": [
       "1"
      ]
     },
     "execution_count": 61,
     "metadata": {},
     "output_type": "execute_result"
    }
   ],
   "source": [
    "model_id = scan_results.data['val_accuracy'].astype('float').argmax()\n",
    "model_id"
   ]
  },
  {
   "cell_type": "code",
   "execution_count": 62,
   "metadata": {
    "id": "7yict0QyGxV7"
   },
   "outputs": [],
   "source": [
    "analyze_object = talos.Analyze(scan_results)"
   ]
  },
  {
   "cell_type": "code",
   "execution_count": 63,
   "metadata": {
    "id": "S3d78iYYG0I3",
    "outputId": "faa0186d-73be-419e-d2ac-bd5dd28312e4"
   },
   "outputs": [
    {
     "data": {
      "text/plain": [
       "array([[50, 2, 729.371762752533, 'adam', 'relu', 32, '04/12/23-080219',\n",
       "        '04/12/23-081428', 60, 2, 0.2, 'sigmoid', 0],\n",
       "       [50, 2, 672.4371883869171, 'adam', 'relu', 32, '04/12/23-021619',\n",
       "        '04/12/23-022731', 50, 2, 0.1, 'sigmoid', 1],\n",
       "       [40, 2, 958.7199273109436, 'adam', 'relu', 32, '04/12/23-073541',\n",
       "        '04/12/23-075139', 60, 2, 0.2, 'sigmoid', 2],\n",
       "       [40, 2, 854.3668570518494, 'adam', 'relu', 32, '04/12/23-003608',\n",
       "        '04/12/23-005022', 40, 2, 0.2, 'sigmoid', 3],\n",
       "       [30, 2, 659.4423024654388, 'adam', 'relu', 32, '04/12/23-071359',\n",
       "        '04/12/23-072459', 60, 2, 0.2, 'sigmoid', 4],\n",
       "       [50, 2, 827.2622079849243, 'adam', 'relu', 32, '04/12/23-010721',\n",
       "        '04/12/23-012108', 40, 2, 0.2, 'sigmoid', 5],\n",
       "       [50, 2, 622.1020886898041, 'adam', 'relu', 32, '04/12/23-022735',\n",
       "        '04/12/23-023757', 50, 2, 0.2, 'sigmoid', 6],\n",
       "       [30, 2, 886.0947408676147, 'adam', 'relu', 32, '04/12/23-013745',\n",
       "        '04/12/23-015231', 50, 2, 0.2, 'sigmoid', 7],\n",
       "       [40, 2, 753.7430062294006, 'adam', 'relu', 32, '04/12/23-015232',\n",
       "        '04/12/23-020505', 50, 2, 0.1, 'sigmoid', 8],\n",
       "       [30, 2, 550.9069032669067, 'adam', 'relu', 32, '04/12/23-001450',\n",
       "        '04/12/23-002401', 40, 2, 0.2, 'sigmoid', 9]], dtype=object)"
      ]
     },
     "execution_count": 63,
     "metadata": {},
     "output_type": "execute_result"
    }
   ],
   "source": [
    "analyze_object.best_params('val_accuracy', ['accuracy', 'loss', 'val_loss'])"
   ]
  },
  {
   "cell_type": "code",
   "execution_count": 64,
   "metadata": {
    "id": "KBlqpfIhG2xq",
    "outputId": "71b23ee7-6369-44aa-b356-0599604ac9b9"
   },
   "outputs": [
    {
     "data": {
      "image/png": "[encoded data removed]",
      "text/plain": [
       "<Figure size 864x475.2 with 1 Axes>"
      ]
     },
     "metadata": {},
     "output_type": "display_data"
    }
   ],
   "source": [
    "analyze_object.plot_line('val_accuracy')"
   ]
  },
  {
   "cell_type": "code",
   "execution_count": 65,
   "metadata": {
    "id": "mQ8Xr0tiG4ry",
    "outputId": "b46273d2-b354-4ec3-bf37-db7ced788002"
   },
   "outputs": [
    {
     "data": {
      "image/png": "[encoded data removed]",
      "text/plain": [
       "<Figure size 864x475.2 with 1 Axes>"
      ]
     },
     "metadata": {},
     "output_type": "display_data"
    }
   ],
   "source": [
    "analyze_object.plot_line('accuracy')"
   ]
  },
  {
   "cell_type": "markdown",
   "metadata": {
    "id": "sHrPeYI_Giky"
   },
   "source": [
    "#### Training Model with Best Parameters"
   ]
  },
  {
   "cell_type": "markdown",
   "metadata": {
    "id": "lIRoKKp9mzQz"
   },
   "source": [
    "LSTM"
   ]
  },
  {
   "cell_type": "code",
   "execution_count": 66,
   "metadata": {
    "id": "9x04BXTCCdsV"
   },
   "outputs": [],
   "source": [
    "inp=Input(shape=(maxpadlen, ),dtype='int32')"
   ]
  },
  {
   "cell_type": "code",
   "execution_count": 67,
   "metadata": {
    "id": "U-fPTQKHFF61"
   },
   "outputs": [],
   "source": [
    "embedding_layer = Embedding(len(word_index) + 1,\n",
    "                           embedding_dim_fasttext,\n",
    "                           weights = [embedding_matrix_fasttext],\n",
    "                           input_length = maxpadlen,\n",
    "                           trainable=False,\n",
    "                           name = 'embeddings')\n",
    "embedded_sequences = embedding_layer(inp)"
   ]
  },
  {
   "cell_type": "code",
   "execution_count": 68,
   "metadata": {
    "id": "mAF1Ui22FmHX"
   },
   "outputs": [],
   "source": [
    "x = LSTM(40, return_sequences=True,name='lstm_layer')(embedded_sequences)\n",
    "x = GlobalMaxPool1D()(x)\n",
    "x = Dropout(0.1)(x)\n",
    "x = Dense(30, activation=\"relu\", kernel_initializer='he_uniform')(x)\n",
    "x = Dropout(0.1)(x)\n",
    "preds = Dense(6, activation=\"sigmoid\", kernel_initializer='glorot_uniform')(x)"
   ]
  },
  {
   "cell_type": "code",
   "execution_count": 69,
   "metadata": {
    "id": "kigFyK4cHHrv"
   },
   "outputs": [],
   "source": [
    "model_1 = Model(inputs=inp, outputs=preds)\n",
    "model_1.compile(loss='binary_crossentropy',\n",
    "                  optimizer='adam',\n",
    "                  metrics=['accuracy'])"
   ]
  },
  {
   "cell_type": "code",
   "execution_count": 70,
   "metadata": {
    "id": "e_qJGa25HVxi",
    "outputId": "6b62ed84-05e4-4934-a6bf-ba42b7ed263e"
   },
   "outputs": [
    {
     "name": "stdout",
     "output_type": "stream",
     "text": [
      "Model: \"model\"\n",
      "_________________________________________________________________\n",
      " Layer (type)                Output Shape              Param #   \n",
      "=================================================================\n",
      " input_1 (InputLayer)        [(None, 200)]             0         \n",
      "                                                                 \n",
      " embeddings (Embedding)      (None, 200, 300)          58599300  \n",
      "                                                                 \n",
      " lstm_layer (LSTM)           (None, 200, 40)           54560     \n",
      "                                                                 \n",
      " global_max_pooling1d (Globa  (None, 40)               0         \n",
      " lMaxPooling1D)                                                  \n",
      "                                                                 \n",
      " dropout (Dropout)           (None, 40)                0         \n",
      "                                                                 \n",
      " dense (Dense)               (None, 30)                1230      \n",
      "                                                                 \n",
      " dropout_1 (Dropout)         (None, 30)                0         \n",
      "                                                                 \n",
      " dense_1 (Dense)             (None, 6)                 186       \n",
      "                                                                 \n",
      "=================================================================\n",
      "Total params: 58,655,276\n",
      "Trainable params: 55,976\n",
      "Non-trainable params: 58,599,300\n",
      "_________________________________________________________________\n"
     ]
    }
   ],
   "source": [
    "model_1.summary()"
   ]
  },
  {
   "cell_type": "code",
   "execution_count": 71,
   "metadata": {
    "id": "iSqW0thULSae",
    "outputId": "cfed5a64-65e4-417f-80d1-add28a1d480e"
   },
   "outputs": [
    {
     "name": "stdout",
     "output_type": "stream",
     "text": [
      "Epoch 1/2\n",
      "3990/3990 [==============================] - 1137s 284ms/step - loss: 0.0630 - accuracy: 0.9387 - val_loss: 0.0498 - val_accuracy: 0.9942\n",
      "Epoch 2/2\n",
      "3990/3990 [==============================] - 442s 111ms/step - loss: 0.0510 - accuracy: 0.9875 - val_loss: 0.0479 - val_accuracy: 0.9939\n"
     ]
    }
   ],
   "source": [
    "model_info_1=model_1.fit(x_train,y_train, epochs=2, batch_size=32,  validation_data=(x_val, y_val))"
   ]
  },
  {
   "cell_type": "markdown",
   "metadata": {
    "id": "kL2OV0YiB3sp"
   },
   "source": [
    "## Plotting Graphs"
   ]
  },
  {
   "cell_type": "markdown",
   "metadata": {
    "id": "oK9KghRBLlq9"
   },
   "source": [
    "### LSTM"
   ]
  },
  {
   "cell_type": "code",
   "execution_count": 72,
   "metadata": {
    "id": "3qKSCDX-KjSX",
    "outputId": "32da5ae6-96a2-4af8-d933-44977540c89b"
   },
   "outputs": [
    {
     "data": {
      "image/png": "[encoded data removed]",
      "text/plain": [
       "<Figure size 432x288 with 1 Axes>"
      ]
     },
     "metadata": {},
     "output_type": "display_data"
    }
   ],
   "source": [
    "loss = model_info_1.history['loss']\n",
    "val_loss = model_info_1.history['val_loss']\n",
    "\n",
    "epochs = range(1, len(loss)+1)\n",
    "\n",
    "plt.plot(epochs, loss, label='Training loss')\n",
    "plt.plot(epochs, val_loss, label='Validation loss')\n",
    "plt.title('Training and Validation loss')\n",
    "plt.xlabel('Epochs')\n",
    "plt.ylabel('Loss')\n",
    "plt.legend()\n",
    "plt.show();"
   ]
  },
  {
   "cell_type": "code",
   "execution_count": 73,
   "metadata": {
    "id": "zio5y-3yRn-6",
    "outputId": "20087c7f-e9d5-4968-a73d-84bfd3fd5046"
   },
   "outputs": [
    {
     "data": {
      "image/png": "[encoded data removed]",
      "text/plain": [
       "<Figure size 432x288 with 1 Axes>"
      ]
     },
     "metadata": {},
     "output_type": "display_data"
    }
   ],
   "source": [
    "accuracy = model_info_1.history['accuracy']\n",
    "val_accuracy = model_info_1.history['val_accuracy']\n",
    "\n",
    "plt.plot(epochs, accuracy, label='Training accuracy')\n",
    "plt.plot(epochs, val_accuracy, label='Validation accuracy')\n",
    "plt.title('Training and validation accuracy')\n",
    "plt.ylabel('Accuracy')\n",
    "plt.xlabel('Epochs')\n",
    "plt.legend()\n",
    "plt.show();"
   ]
  },
  {
   "cell_type": "markdown",
   "metadata": {
    "id": "7wv1IdwZk_qG"
   },
   "source": [
    "# Saving the Model"
   ]
  },
  {
   "cell_type": "code",
   "execution_count": 74,
   "metadata": {
    "id": "eisFdjOUlBbM",
    "outputId": "0afe2aa4-d7d9-4cd6-a2e1-964201201952"
   },
   "outputs": [
    {
     "name": "stderr",
     "output_type": "stream",
     "text": [
      "WARNING:absl:Found untraced functions such as _update_step_xla, lstm_cell_layer_call_fn, lstm_cell_layer_call_and_return_conditional_losses while saving (showing 3 of 3). These functions will not be directly callable after loading.\n"
     ]
    },
    {
     "name": "stdout",
     "output_type": "stream",
     "text": [
      "INFO:tensorflow:Assets written to: Data/model1\\assets\n"
     ]
    },
    {
     "name": "stderr",
     "output_type": "stream",
     "text": [
      "INFO:tensorflow:Assets written to: Data/model1\\assets\n"
     ]
    }
   ],
   "source": [
    "model_1.save('Data/model1')"
   ]
  },
  {
   "cell_type": "markdown",
   "metadata": {
    "id": "bXx4IOYn4_XB"
   },
   "source": [
    "# Loading Saved Model"
   ]
  },
  {
   "cell_type": "code",
   "execution_count": 75,
   "metadata": {
    "id": "huVktHqRMSGc"
   },
   "outputs": [],
   "source": [
    "loaded_model_1 = keras.models.load_model('Data/model1')"
   ]
  },
  {
   "cell_type": "markdown",
   "metadata": {
    "id": "kJJJs5txVS8S"
   },
   "source": [
    "# Generating the Output"
   ]
  },
  {
   "cell_type": "markdown",
   "metadata": {
    "id": "qBk_wYFWMY82"
   },
   "source": [
    "### LSTM"
   ]
  },
  {
   "cell_type": "code",
   "execution_count": 76,
   "metadata": {
    "id": "aUL3S8xiCYxU",
    "outputId": "b1cdf858-7f60-4b48-8a7b-cc64bd678800"
   },
   "outputs": [
    {
     "name": "stdout",
     "output_type": "stream",
     "text": [
      "153164/153164 [==============================] - 1480s 10ms/step\n"
     ]
    }
   ],
   "source": [
    "test_values_1 = loaded_model_1.predict([X_te], batch_size=1, verbose=1)"
   ]
  },
  {
   "cell_type": "code",
   "execution_count": 77,
   "metadata": {
    "id": "_FSvu4hpyU4r"
   },
   "outputs": [],
   "source": [
    "sample_submission = pd.read_csv(r'D:\\VIT\\Sem 6\\TARP\\sample_submission.csv')\n",
    "test_values_1=pd.DataFrame(test_values_1,columns=['toxic', 'severe_toxic', 'obscene', 'threat', 'insult', 'identity_hate'])\n",
    "submission = pd.DataFrame(sample_submission[\"id\"])\n",
    "combined_submission=pd.concat([submission,test_values_1],axis=1)\n",
    "combined_submission.to_csv(r'D:\\VIT\\Sem 6\\TARP\\sample_submission.csv', index=False)"
   ]
  },
  {
   "cell_type": "markdown",
   "metadata": {
    "id": "7HkAldq1IJcr"
   },
   "source": [
    "# Testing the Created Model"
   ]
  },
  {
   "cell_type": "code",
   "execution_count": 78,
   "metadata": {
    "id": "fPneHbuzIIxj"
   },
   "outputs": [],
   "source": [
    "def toxicity_level(string):\n",
    "    new_string = [string]\n",
    "    new_string = tokenizer.texts_to_sequences(new_string)\n",
    "    new_string = pad_sequences(new_string, maxlen=maxpadlen, padding='post')\n",
    "    \n",
    "    prediction = loaded_model_1.predict(new_string) #(Change to model_1 or model_2 depending on the preference of model type|| Model 1: LSTM, Model 2:LSTM-CNN)\n",
    "    \n",
    "    print(\"Toxicity levels for '{}':\".format(string))\n",
    "    print('Toxic:         {:.0%}'.format(prediction[0][0]))\n",
    "    print('Severe Toxic:  {:.0%}'.format(prediction[0][1]))\n",
    "    print('Obscene:       {:.0%}'.format(prediction[0][2]))\n",
    "    print('Threat:        {:.0%}'.format(prediction[0][3]))\n",
    "    print('Insult:        {:.0%}'.format(prediction[0][4]))\n",
    "    print('Identity Hate: {:.0%}'.format(prediction[0][5]))\n",
    "    print()\n",
    "    \n",
    "    return"
   ]
  },
  {
   "cell_type": "code",
   "execution_count": 79,
   "metadata": {
    "id": "wxWkAax7JLF1",
    "outputId": "1caa320a-2e38-497a-bd04-303f233399aa"
   },
   "outputs": [
    {
     "name": "stdout",
     "output_type": "stream",
     "text": [
      "1/1 [==============================] - 3s 3s/step\n",
      "Toxicity levels for 'go jump off a bridge jerk':\n",
      "Toxic:         78%\n",
      "Severe Toxic:  4%\n",
      "Obscene:       46%\n",
      "Threat:        2%\n",
      "Insult:        49%\n",
      "Identity Hate: 2%\n",
      "\n"
     ]
    }
   ],
   "source": [
    "toxicity_level('go jump off a bridge jerk')"
   ]
  },
  {
   "cell_type": "code",
   "execution_count": 80,
   "metadata": {
    "id": "QLGZpQ1KIpFG",
    "outputId": "140c4a95-10ec-4d1c-d891-c6616ba3c98a"
   },
   "outputs": [
    {
     "name": "stdout",
     "output_type": "stream",
     "text": [
      "1/1 [==============================] - 0s 37ms/step\n",
      "Toxicity levels for 'i will kill you':\n",
      "Toxic:         56%\n",
      "Severe Toxic:  9%\n",
      "Obscene:       25%\n",
      "Threat:        18%\n",
      "Insult:        35%\n",
      "Identity Hate: 13%\n",
      "\n"
     ]
    }
   ],
   "source": [
    "toxicity_level('i will kill you')"
   ]
  },
  {
   "cell_type": "code",
   "execution_count": 81,
   "metadata": {
    "id": "Be1lw-liIpfe",
    "outputId": "2a756e6b-c679-4a0d-991f-5126d7293901"
   },
   "outputs": [
    {
     "name": "stdout",
     "output_type": "stream",
     "text": [
      "1/1 [==============================] - 0s 37ms/step\n",
      "Toxicity levels for 'have a nice day':\n",
      "Toxic:         1%\n",
      "Severe Toxic:  0%\n",
      "Obscene:       0%\n",
      "Threat:        0%\n",
      "Insult:        0%\n",
      "Identity Hate: 0%\n",
      "\n"
     ]
    }
   ],
   "source": [
    "toxicity_level('have a nice day')"
   ]
  },
  {
   "cell_type": "code",
   "execution_count": 82,
   "metadata": {
    "id": "HZ-_6XzxIxxT",
    "outputId": "d86d09d4-3b0e-4b2a-9a39-27402021cdfe"
   },
   "outputs": [
    {
     "name": "stdout",
     "output_type": "stream",
     "text": [
      "1/1 [==============================] - 0s 36ms/step\n",
      "Toxicity levels for 'fuck ofF!!':\n",
      "Toxic:         99%\n",
      "Severe Toxic:  29%\n",
      "Obscene:       99%\n",
      "Threat:        2%\n",
      "Insult:        77%\n",
      "Identity Hate: 8%\n",
      "\n"
     ]
    }
   ],
   "source": [
    "toxicity_level('fuck ofF!!')"
   ]
  },
  {
   "cell_type": "code",
   "execution_count": 83,
   "metadata": {
    "id": "1s_5EQEFJD3G",
    "outputId": "ff07de4a-caad-4724-df5a-7049446fa9f6"
   },
   "outputs": [
    {
     "name": "stdout",
     "output_type": "stream",
     "text": [
      "1/1 [==============================] - 0s 38ms/step\n",
      "Toxicity levels for 'Hello, How are you?':\n",
      "Toxic:         1%\n",
      "Severe Toxic:  0%\n",
      "Obscene:       0%\n",
      "Threat:        0%\n",
      "Insult:        0%\n",
      "Identity Hate: 0%\n",
      "\n"
     ]
    }
   ],
   "source": [
    "toxicity_level('Hello, How are you?')"
   ]
  },
  {
   "cell_type": "code",
   "execution_count": 84,
   "metadata": {
    "id": "apOGOBU3uZxl",
    "outputId": "924fa8b3-5e98-4dae-f291-40f08ee508a2"
   },
   "outputs": [
    {
     "name": "stdout",
     "output_type": "stream",
     "text": [
      "1/1 [==============================] - 0s 33ms/step\n",
      "Toxicity levels for 'get the fuck away from me @sshole!!':\n",
      "Toxic:         99%\n",
      "Severe Toxic:  27%\n",
      "Obscene:       98%\n",
      "Threat:        2%\n",
      "Insult:        72%\n",
      "Identity Hate: 7%\n",
      "\n"
     ]
    }
   ],
   "source": [
    "toxicity_level('get the fuck away from me @sshole!!')"
   ]
  },
  {
   "cell_type": "code",
   "execution_count": 85,
   "metadata": {
    "id": "1bPt-jAGpGnV"
   },
   "outputs": [
    {
     "name": "stdout",
     "output_type": "stream",
     "text": [
      "1/1 [==============================] - 0s 37ms/step\n",
      "Toxicity levels for 'you son of a bitch!':\n",
      "Toxic:         99%\n",
      "Severe Toxic:  29%\n",
      "Obscene:       96%\n",
      "Threat:        3%\n",
      "Insult:        79%\n",
      "Identity Hate: 13%\n",
      "\n"
     ]
    }
   ],
   "source": [
    "toxicity_level('you son of a bitch!')"
   ]
  },
  {
   "cell_type": "code",
   "execution_count": 86,
   "metadata": {},
   "outputs": [
    {
     "name": "stdout",
     "output_type": "stream",
     "text": [
      "1/1 [==============================] - 0s 30ms/step\n",
      "Toxicity levels for 'son of a whore':\n",
      "Toxic:         98%\n",
      "Severe Toxic:  25%\n",
      "Obscene:       92%\n",
      "Threat:        4%\n",
      "Insult:        76%\n",
      "Identity Hate: 13%\n",
      "\n"
     ]
    }
   ],
   "source": [
    "toxicity_level('son of a whore')"
   ]
  },
  {
   "cell_type": "code",
   "execution_count": 87,
   "metadata": {},
   "outputs": [
    {
     "name": "stdout",
     "output_type": "stream",
     "text": [
      "1/1 [==============================] - 0s 35ms/step\n",
      "Toxicity levels for 'bastard bitch':\n",
      "Toxic:         100%\n",
      "Severe Toxic:  49%\n",
      "Obscene:       99%\n",
      "Threat:        3%\n",
      "Insult:        89%\n",
      "Identity Hate: 15%\n",
      "\n"
     ]
    }
   ],
   "source": [
    "toxicity_level('bastard bitch')\n"
   ]
  },
  {
   "cell_type": "code",
   "execution_count": 88,
   "metadata": {},
   "outputs": [
    {
     "name": "stdout",
     "output_type": "stream",
     "text": [
      "1/1 [==============================] - 0s 35ms/step\n",
      "Toxicity levels for 'i will kill you, motherfucker':\n",
      "Toxic:         98%\n",
      "Severe Toxic:  45%\n",
      "Obscene:       96%\n",
      "Threat:        9%\n",
      "Insult:        80%\n",
      "Identity Hate: 27%\n",
      "\n"
     ]
    }
   ],
   "source": [
    "toxicity_level('i will kill you, motherfucker')"
   ]
  },
  {
   "cell_type": "code",
   "execution_count": 89,
   "metadata": {},
   "outputs": [
    {
     "name": "stdout",
     "output_type": "stream",
     "text": [
      "1/1 [==============================] - 0s 38ms/step\n",
      "Toxicity levels for 'you dumb faggot':\n",
      "Toxic:         99%\n",
      "Severe Toxic:  33%\n",
      "Obscene:       95%\n",
      "Threat:        4%\n",
      "Insult:        83%\n",
      "Identity Hate: 26%\n",
      "\n"
     ]
    }
   ],
   "source": [
    "toxicity_level('you dumb faggot')"
   ]
  },
  {
   "cell_type": "code",
   "execution_count": 90,
   "metadata": {},
   "outputs": [
    {
     "name": "stdout",
     "output_type": "stream",
     "text": [
      "1/1 [==============================] - 0s 34ms/step\n",
      "Toxicity levels for 'go die b!tch':\n",
      "Toxic:         74%\n",
      "Severe Toxic:  20%\n",
      "Obscene:       49%\n",
      "Threat:        20%\n",
      "Insult:        49%\n",
      "Identity Hate: 25%\n",
      "\n"
     ]
    }
   ],
   "source": [
    "toxicity_level('go die b!tch')"
   ]
  },
  {
   "cell_type": "code",
   "execution_count": 91,
   "metadata": {},
   "outputs": [
    {
     "name": "stdout",
     "output_type": "stream",
     "text": [
      "1/1 [==============================] - 0s 35ms/step\n",
      "Toxicity levels for 'go die b!tch':\n",
      "Toxic:         74%\n",
      "Severe Toxic:  20%\n",
      "Obscene:       49%\n",
      "Threat:        20%\n",
      "Insult:        49%\n",
      "Identity Hate: 25%\n",
      "\n"
     ]
    }
   ],
   "source": [
    "toxicity_level('go die b!tch')"
   ]
  },
  {
   "cell_type": "code",
   "execution_count": 92,
   "metadata": {},
   "outputs": [
    {
     "name": "stdout",
     "output_type": "stream",
     "text": [
      "1/1 [==============================] - 0s 29ms/step\n",
      "Toxicity levels for 'go die':\n",
      "Toxic:         69%\n",
      "Severe Toxic:  12%\n",
      "Obscene:       39%\n",
      "Threat:        17%\n",
      "Insult:        42%\n",
      "Identity Hate: 14%\n",
      "\n"
     ]
    }
   ],
   "source": [
    "toxicity_level('go die')"
   ]
  },
  {
   "cell_type": "code",
   "execution_count": 93,
   "metadata": {},
   "outputs": [
    {
     "name": "stdout",
     "output_type": "stream",
     "text": [
      "1/1 [==============================] - 0s 24ms/step\n",
      "Toxicity levels for 'hey do you wanna have coffee':\n",
      "Toxic:         17%\n",
      "Severe Toxic:  0%\n",
      "Obscene:       7%\n",
      "Threat:        0%\n",
      "Insult:        3%\n",
      "Identity Hate: 0%\n",
      "\n"
     ]
    }
   ],
   "source": [
    "toxicity_level('hey do you wanna have coffee')"
   ]
  },
  {
   "cell_type": "code",
   "execution_count": 94,
   "metadata": {},
   "outputs": [
    {
     "name": "stdout",
     "output_type": "stream",
     "text": [
      "1/1 [==============================] - 0s 23ms/step\n",
      "Toxicity levels for 'Prashna should get a haircut':\n",
      "Toxic:         2%\n",
      "Severe Toxic:  0%\n",
      "Obscene:       0%\n",
      "Threat:        0%\n",
      "Insult:        0%\n",
      "Identity Hate: 0%\n",
      "\n"
     ]
    }
   ],
   "source": [
    "toxicity_level('Prashna should get a haircut')"
   ]
  },
  {
   "cell_type": "code",
   "execution_count": 95,
   "metadata": {},
   "outputs": [
    {
     "name": "stdout",
     "output_type": "stream",
     "text": [
      "1/1 [==============================] - 0s 25ms/step\n",
      "Toxicity levels for 'prashna':\n",
      "Toxic:         5%\n",
      "Severe Toxic:  0%\n",
      "Obscene:       3%\n",
      "Threat:        1%\n",
      "Insult:        1%\n",
      "Identity Hate: 0%\n",
      "\n"
     ]
    }
   ],
   "source": [
    "toxicity_level('prashna')"
   ]
  },
  {
   "cell_type": "code",
   "execution_count": 96,
   "metadata": {},
   "outputs": [
    {
     "name": "stdout",
     "output_type": "stream",
     "text": [
      "1/1 [==============================] - 0s 31ms/step\n",
      "Toxicity levels for 'prateek':\n",
      "Toxic:         5%\n",
      "Severe Toxic:  0%\n",
      "Obscene:       3%\n",
      "Threat:        1%\n",
      "Insult:        1%\n",
      "Identity Hate: 0%\n",
      "\n"
     ]
    }
   ],
   "source": [
    "toxicity_level('prateek')"
   ]
  },
  {
   "cell_type": "code",
   "execution_count": 97,
   "metadata": {},
   "outputs": [
    {
     "name": "stdout",
     "output_type": "stream",
     "text": [
      "1/1 [==============================] - 0s 23ms/step\n",
      "Toxicity levels for 'raunit':\n",
      "Toxic:         5%\n",
      "Severe Toxic:  0%\n",
      "Obscene:       3%\n",
      "Threat:        1%\n",
      "Insult:        1%\n",
      "Identity Hate: 0%\n",
      "\n"
     ]
    }
   ],
   "source": [
    "toxicity_level('raunit')"
   ]
  },
  {
   "cell_type": "code",
   "execution_count": 98,
   "metadata": {},
   "outputs": [
    {
     "name": "stdout",
     "output_type": "stream",
     "text": [
      "1/1 [==============================] - 0s 39ms/step\n",
      "Toxicity levels for 'raunit':\n",
      "Toxic:         5%\n",
      "Severe Toxic:  0%\n",
      "Obscene:       3%\n",
      "Threat:        1%\n",
      "Insult:        1%\n",
      "Identity Hate: 0%\n",
      "\n"
     ]
    }
   ],
   "source": [
    "toxicity_level('raunit')"
   ]
  },
  {
   "cell_type": "code",
   "execution_count": 99,
   "metadata": {},
   "outputs": [
    {
     "name": "stdout",
     "output_type": "stream",
     "text": [
      "1/1 [==============================] - 0s 40ms/step\n",
      "Toxicity levels for 'love':\n",
      "Toxic:         6%\n",
      "Severe Toxic:  0%\n",
      "Obscene:       1%\n",
      "Threat:        0%\n",
      "Insult:        1%\n",
      "Identity Hate: 0%\n",
      "\n"
     ]
    }
   ],
   "source": [
    "toxicity_level('love')"
   ]
  },
  {
   "cell_type": "code",
   "execution_count": 100,
   "metadata": {},
   "outputs": [
    {
     "name": "stdout",
     "output_type": "stream",
     "text": [
      "1/1 [==============================] - 1s 1s/step\n",
      "Toxicity levels for 'you should die':\n",
      "Toxic:         69%\n",
      "Severe Toxic:  12%\n",
      "Obscene:       39%\n",
      "Threat:        17%\n",
      "Insult:        42%\n",
      "Identity Hate: 14%\n",
      "\n"
     ]
    }
   ],
   "source": [
    "toxicity_level('you should die')\n"
   ]
  },
  {
   "cell_type": "code",
   "execution_count": null,
   "metadata": {},
   "outputs": [],
   "source": []
  }
 ],
 "metadata": {
  "colab": {
   "collapsed_sections": [
    "wcGq1dF0iWju",
    "z8KPqb7_vC59",
    "D8hAcigh3Sh3",
    "NDWRHguXxOF_",
    "CeScalvZDEdD",
    "7wv1IdwZk_qG",
    "bXx4IOYn4_XB",
    "kJJJs5txVS8S",
    "7HkAldq1IJcr"
   ],
   "name": "LSTM_Model.ipynb",
   "provenance": []
  },
  "kernelspec": {
   "display_name": "Python 3",
   "language": "python",
   "name": "python3"
  },
  "language_info": {
   "codemirror_mode": {
    "name": "ipython",
    "version": 3
   },
   "file_extension": ".py",
   "mimetype": "text/x-python",
   "name": "python",
   "nbconvert_exporter": "python",
   "pygments_lexer": "ipython3",
   "version": "3.8.5"
  }
 },
 "nbformat": 4,
 "nbformat_minor": 1
}
